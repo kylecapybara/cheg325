{
 "cells": [
  {
   "cell_type": "markdown",
   "metadata": {},
   "source": [
    "---\n",
    "title: cheg325 homework 5 SIS 11.2-4\n",
    "author: k. wodehouse\n",
    "date: today\n",
    "format:\n",
    "    html:\n",
    "        self-contained: true\n",
    "---"
   ]
  },
  {
   "cell_type": "markdown",
   "metadata": {},
   "source": [
    "# (a)\n",
    "\n",
    "starting off with our most useful equation for liquid liquid equlibrium\n",
    "\n",
    "$$\n",
    "x_1^{I} \\gamma_1^{I} = x_1^{II} \\gamma_1 ^{II}\n",
    "$$\n",
    "\n",
    "now if we apply the data given in the problem statement\n",
    "\n",
    "$$\n",
    "0.48 \\gamma_1(x_1 = 0.48) = 0.94\\gamma_1(x_1 = 0.94)\n",
    "$$\n",
    "\n",
    "we know the one constant margules is as follows\n",
    "\n",
    "$$\n",
    "\\frac{\\underline G^{\\text{ex}}}{RT} = A x_1 x_2\n",
    "$$\n",
    "\n",
    "$$\n",
    "\\ln \\gamma_1 = A x_2^2\n",
    "$$\n",
    "\n",
    "so now the equation we ultimately need to solve is \n",
    "\n",
    "$$\n",
    "x_1^I \\exp[ A (1-x_1^I)^2] = x_1^{II} \\exp[ A (1-x_1^{II})^2]\n",
    "$$\n",
    "\n",
    "$$\n",
    "\\frac{\\exp[ A (1-x_1^{II})^2]}{\\exp[ A (1-x_1^I)^2]} = \\frac{x_1^I}{x_1^{II}}\n",
    "$$\n",
    "\n",
    "\n",
    "$$\n",
    "\\exp[ A (1-x_1^{II})^2 - A (1-x_1^I)^2] = \\frac{x_1^I}{x_1^{II}}\n",
    "$$\n",
    "\n",
    "$$\n",
    "A \\bigl(  (1-x_1^{II})^2 -  (1-x_1^I)^2 \\bigr) = \\ln \\frac{x_1^I}{x_1^{II}}\n",
    "$$\n",
    "\n",
    "which gives\n",
    "\n",
    "$$\n",
    "A = \\frac{\\ln \\frac{x_1^I}{x_1^{II}}}{(1-x_1^{II})^2 -  (1-x_1^I)^2} = 2.52\n",
    "$$"
   ]
  },
  {
   "cell_type": "code",
   "execution_count": 57,
   "metadata": {},
   "outputs": [
    {
     "name": "stdout",
     "output_type": "stream",
     "text": [
      "A: 2.52\n"
     ]
    }
   ],
   "source": [
    "import numpy as np\n",
    "A = np.log(0.48/0.94) / ((1-0.94)**2 - (1-0.48)**2)\n",
    "print(f'A: {A:.2f}')"
   ]
  },
  {
   "cell_type": "markdown",
   "metadata": {},
   "source": [
    "which is fine and all, but for our 1-constant margules we know that the excess gibbs is modeled as being perfectly symmetric which means our activity coefficients are symmetric too. we need to check this to confirm or reject the 1-constant margules as modeling the system well."
   ]
  },
  {
   "cell_type": "code",
   "execution_count": 58,
   "metadata": {},
   "outputs": [
    {
     "name": "stdout",
     "output_type": "stream",
     "text": [
      "A: 3.31\n"
     ]
    }
   ],
   "source": [
    "A = np.log((1-0.48)/(1-0.94)) /  ((0.94)**2 - (0.48)**2)\n",
    "print(f'A: {A:.2f}')"
   ]
  },
  {
   "cell_type": "markdown",
   "metadata": {},
   "source": [
    "which is very clearly not the same number! this means that the activity coefficients will need different values at infinite dilution and cannot be accurately modeled with the one-constant margules model."
   ]
  },
  {
   "cell_type": "markdown",
   "metadata": {},
   "source": [
    "# (b)\n",
    "\n",
    "this part is a little annoying since i already arbitrarily defined benzene as component 1. looking at our regular solution theory\n",
    "\n",
    "$$\n",
    "RT \\ln \\gamma_i = \\underline V_i (\\delta_i - \\bar \\delta)^2    \\tag{9.6-11}\n",
    "$$\n",
    "\n",
    "which, rearranging for the activity coeff\n",
    "\n",
    "$$\n",
    "\\gamma_i = \\exp \\biggl(  \\frac{ \\underline V_i (\\delta_i - \\bar \\delta)^2}{RT}  \\biggr)\n",
    "$$\n",
    "\n",
    "and like... the $\\bar \\delta$ is (for each phase)\n",
    "\n",
    "$$\n",
    "\\bar \\delta = (1-\\Phi_2) \\delta_1 + (\\Phi_2) \\delta_2 = \\Phi_{2}  (\\delta_2 - \\delta_1) + \\delta_1\n",
    "$$\n",
    "\n",
    "which makes\n",
    "\n",
    "$$\n",
    "(\\delta_1 - \\bar \\delta)^I = (\\delta_1 - \\Phi_{2}  (\\delta_2 - \\delta_1) - \\delta_1) = - \\Phi_{2}  (\\delta_2 - \\delta_1)\n",
    "$$\n",
    "\n",
    "and, somewhat obviously \n",
    "\n",
    "$$\n",
    "((\\delta_1 - \\bar \\delta)^2)^I = \\Phi_{2}^2  (\\delta_1 - \\delta_2)^2\n",
    "$$\n",
    "\n",
    "so our activity coefficient is\n",
    "\n",
    "$$\n",
    "\\gamma_i = \\exp \\biggl(  \\frac{ \\underline V_i \\Phi_j^2 (\\delta_1 - \\delta_2)^2}{RT}  \\biggr)\n",
    "$$\n",
    "\n",
    "now we just have the same problem as before but this time i'll be even more lazy and let mathematica do the algebra for me because its 11:19pm on a tuesday during spring break.\n",
    "\n",
    "$$\n",
    "x_1^{I} \\gamma_1^{I} = x_1^{II} \\gamma_1 ^{II}\n",
    "$$\n",
    "\n",
    "$$\n",
    "x_1^{I} \\exp \\biggl(  \\frac{ \\underline V_1 (\\Phi_2^I)^2 (\\delta_1 - \\delta_2)^2}{RT}  \\biggr) \n",
    "= \n",
    "x_1^{II} \\exp \\biggl(  \\frac{ \\underline V_1 (\\Phi_2^{II})^2 (\\delta_1 - \\delta_2)^2}{RT}  \\biggr) \n",
    "$$\n",
    "\n",
    "now we're finally left with n equations and n unkonwns the other equations are\n",
    "\n",
    "$$\n",
    "\\Phi_2^{I} = \\frac{(1-x_1^I) \\underline V_2}{x_1^I \\underline V_1 + (1-x_1^I) \\underline V_2}\n",
    "$$\n",
    "\n",
    "$$\n",
    "\\Phi_2^{II} = \\frac{(1-x_1^{II}) \\underline V_2}{x_1^{II} \\underline V_1 + (1-x_1^{II}) \\underline V_2}\n",
    "$$\n",
    "\n",
    "from table 9.6-1 we get $\\underline V$ for benzene and the other is given in the problem."
   ]
  },
  {
   "cell_type": "code",
   "execution_count": 59,
   "metadata": {},
   "outputs": [
    {
     "name": "stdout",
     "output_type": "stream",
     "text": [
      "Phi_2 I: 0.7334\n",
      "Phi_2 II: 0.1395\n",
      "Phi_1 I: 0.2666\n",
      "Phi_1 II: 0.8605\n"
     ]
    }
   ],
   "source": [
    "V1 = 89.0 * 1e-3# cm^3 / mol --> m3/mol\n",
    "V2 = 0.226\n",
    "\n",
    "x11 = 0.48\n",
    "x12 = 0.94\n",
    "\n",
    "phi21 = (1-x11) * V2 / (x11*V1 + (1-x11)*V2)\n",
    "phi22 = (1-x12) * V2 / (x12*V1 + (1-x12)*V2)\n",
    "\n",
    "print(f'Phi_2 I: {phi21:.4f}')\n",
    "print(f'Phi_2 II: {phi22:.4f}')\n",
    "\n",
    "phi11 = 1 - phi21\n",
    "phi12 = 1 - phi22\n",
    "\n",
    "print(f'Phi_1 I: {phi11:.4f}')\n",
    "print(f'Phi_1 II: {phi12:.4f}')"
   ]
  },
  {
   "cell_type": "markdown",
   "metadata": {},
   "source": [
    "now we can calculate the solubility parameter for perfluoro-$n$-heptane by isolating $(\\delta_1 - \\delta_2)$ and then using that to find our $\\delta_2$. a very similar algebra process as the first part so i'll just cut to the chase\n",
    "\n",
    "$$\n",
    "(\\delta_1 - \\delta_2)^2 = \\frac{RT \\ln \\frac{x_i^{II}}{x_i^I}}{\\underline V_i ((\\Phi_j^I)^2 - (\\Phi_j^{II})^2)}\n",
    "$$\n",
    "\n",
    "now we can just plug in the experimental data point given by the problem and find the values for $\\delta_2$\n",
    "\n"
   ]
  },
  {
   "cell_type": "code",
   "execution_count": 60,
   "metadata": {},
   "outputs": [
    {
     "name": "stdout",
     "output_type": "stream",
     "text": [
      "set: [12.487  5.913]\n"
     ]
    }
   ],
   "source": [
    "from scipy.constants import R\n",
    "T = 273.15 + 100.0\n",
    "\n",
    "leftside_1 = R*T * np.log(x12 / x11) / (V1 * (phi21**2 - phi22**2)) / 4184\n",
    "\n",
    "d1_minus_d2_1 = np.sqrt(leftside_1)\n",
    "\n",
    "delta_1 = 9.2\n",
    "delta_2_1 = [delta_1 + d1_minus_d2_1, delta_1 - d1_minus_d2_1]\n",
    "print(f\"set: {np.round(delta_2_1,3)}\")"
   ]
  },
  {
   "cell_type": "markdown",
   "metadata": {},
   "source": [
    "the 5.91 value is pretty close to the value of 6 in the table so in some way it lines up with experiment. not sure how (without already knowing it's 6) you'd figure out to use the lower value."
   ]
  },
  {
   "cell_type": "code",
   "execution_count": 61,
   "metadata": {},
   "outputs": [],
   "source": [
    "# filler text"
   ]
  }
 ],
 "metadata": {
  "kernelspec": {
   "display_name": "base",
   "language": "python",
   "name": "python3"
  },
  "language_info": {
   "codemirror_mode": {
    "name": "ipython",
    "version": 3
   },
   "file_extension": ".py",
   "mimetype": "text/x-python",
   "name": "python",
   "nbconvert_exporter": "python",
   "pygments_lexer": "ipython3",
   "version": "3.11.5"
  }
 },
 "nbformat": 4,
 "nbformat_minor": 2
}
