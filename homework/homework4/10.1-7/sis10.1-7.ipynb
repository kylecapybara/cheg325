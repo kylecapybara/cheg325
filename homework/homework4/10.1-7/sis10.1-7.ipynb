{
 "cells": [
  {
   "cell_type": "markdown",
   "metadata": {},
   "source": [
    "---\n",
    "title: SIS 10.1-7\n",
    "author: k.wodehouse\n",
    "date: today\n",
    "format:\n",
    "    html:   \n",
    "        self-contained: true\n",
    "---"
   ]
  },
  {
   "cell_type": "markdown",
   "metadata": {},
   "source": [
    "I'll start by bringing in the data given in the question as a dataframe because thats super easy to work with. I grabbed the molecular weight from NIST."
   ]
  },
  {
   "cell_type": "code",
   "execution_count": 2,
   "metadata": {},
   "outputs": [
    {
     "data": {
      "text/html": [
       "<div>\n",
       "<style scoped>\n",
       "    .dataframe tbody tr th:only-of-type {\n",
       "        vertical-align: middle;\n",
       "    }\n",
       "\n",
       "    .dataframe tbody tr th {\n",
       "        vertical-align: top;\n",
       "    }\n",
       "\n",
       "    .dataframe thead th {\n",
       "        text-align: right;\n",
       "    }\n",
       "</style>\n",
       "<table border=\"1\" class=\"dataframe\">\n",
       "  <thead>\n",
       "    <tr style=\"text-align: right;\">\n",
       "      <th></th>\n",
       "      <th>zif</th>\n",
       "      <th>pvap</th>\n",
       "      <th>density</th>\n",
       "      <th>mw</th>\n",
       "    </tr>\n",
       "    <tr>\n",
       "      <th>compound</th>\n",
       "      <th></th>\n",
       "      <th></th>\n",
       "      <th></th>\n",
       "      <th></th>\n",
       "    </tr>\n",
       "  </thead>\n",
       "  <tbody>\n",
       "    <tr>\n",
       "      <th>n-butane</th>\n",
       "      <td>0.1</td>\n",
       "      <td>242800.0</td>\n",
       "      <td>0.575</td>\n",
       "      <td>58.1222</td>\n",
       "    </tr>\n",
       "    <tr>\n",
       "      <th>n-hexane</th>\n",
       "      <td>0.9</td>\n",
       "      <td>20000.0</td>\n",
       "      <td>0.655</td>\n",
       "      <td>86.1754</td>\n",
       "    </tr>\n",
       "  </tbody>\n",
       "</table>\n",
       "</div>"
      ],
      "text/plain": [
       "          zif      pvap  density       mw\n",
       "compound                                 \n",
       "n-butane  0.1  242800.0    0.575  58.1222\n",
       "n-hexane  0.9   20000.0    0.655  86.1754"
      ]
     },
     "execution_count": 2,
     "metadata": {},
     "output_type": "execute_result"
    }
   ],
   "source": [
    "import numpy as np\n",
    "import pandas as pd\n",
    "from scipy.optimize import fsolve\n",
    "from scipy.constants import R\n",
    "\n",
    "df = pd.read_csv('data.txt', sep='\\t', index_col=0)\n",
    "components =  list(df.index)\n",
    "df['pvap'] *= 1e5\n",
    "df"
   ]
  },
  {
   "cell_type": "markdown",
   "metadata": {},
   "source": [
    "I think what we need to do is\n",
    "\n",
    "1. guess a pressure\n",
    "2. calculate V and L\n",
    "3. calculate the volume of liquid in the tank\n",
    "4. calculate the pressure for the vapor using ideal EOS\n",
    "5. if it matches the guess, thats the answer\n",
    "6. otherwise guess another pressure\n"
   ]
  },
  {
   "cell_type": "code",
   "execution_count": null,
   "metadata": {},
   "outputs": [
    {
     "name": "stdout",
     "output_type": "stream",
     "text": [
      "pressure: 0.2616 bar\n",
      "P (ideal gas in 30L): 0.8259 bar\n"
     ]
    },
    {
     "name": "stderr",
     "output_type": "stream",
     "text": [
      "/var/folders/f9/38nkw6517lgf362dv55hy0xc0000gn/T/ipykernel_28164/2401709798.py:13: RuntimeWarning: The iteration is not making good progress, as measured by the \n",
      "  improvement from the last ten iterations.\n",
      "  V = fsolve(get_v, 0.5, (Ptotal), maxfev=9999)[0]\n"
     ]
    }
   ],
   "source": [
    "volume = 30.0 / 1000 # liters -> m^3\n",
    "T = 298.0\n",
    "\n",
    "def get_v(V, Ptotal):\n",
    "    sum_thingy = 0\n",
    "    for component in components:\n",
    "        zif, pvap = df.loc[component]['zif'], df.loc[component]['pvap']\n",
    "        ki = pvap / Ptotal\n",
    "        sum_thingy += (zif )/(1 + V*(ki - 1))\n",
    "    return (1 - sum_thingy)\n",
    "\n",
    "def flash(Ptotal):\n",
    "    V = fsolve(get_v, 0.5, (Ptotal), maxfev=9999)[0]\n",
    "    L = 1 - V\n",
    "\n",
    "    liquid_volume = 0\n",
    "    for component in components:\n",
    "        zif, pvap, mw, density = df.loc[component]['zif'], df.loc[component]['pvap'], df.loc[component]['mw'], df.loc[component]['density']\n",
    "        ki = pvap / Ptotal\n",
    "        xi = zif / (1 + V*(ki - 1))\n",
    "        liquid_volume += L * xi * mw / density / 1e6\n",
    "    vapor_volume = volume - liquid_volume\n",
    "     \n",
    "    pressure = 0\n",
    "    for component in components:\n",
    "        zif, pvap, mw = df.loc[component]['zif'], df.loc[component]['pvap'], df.loc[component]['mw']\n",
    "        ki = pvap / Ptotal\n",
    "        yi = zif * ki/ (1 + V*(ki - 1))\n",
    "        N = V * yi\n",
    "        pressure += N * R * T / vapor_volume\n",
    "    return abs(Ptotal - pressure)\n",
    "\n",
    "pressure = fsolve(flash, 1e5, maxfev=99999)[0]\n",
    "V = fsolve(get_v, 0.9, (pressure))[0]\n",
    "print(f'pressure: {pressure*1e-5:.4f} bar')\n",
    "\n",
    "pressure_ig = R*T/volume\n",
    "print(f'P (ideal gas in 30L): {pressure_ig*1e-5:.4f} bar')"
   ]
  },
  {
   "cell_type": "markdown",
   "metadata": {},
   "source": [
    "realistically, the liquid volume is probably negligible. let's get the compositions now"
   ]
  },
  {
   "cell_type": "code",
   "execution_count": 4,
   "metadata": {},
   "outputs": [
    {
     "name": "stdout",
     "output_type": "stream",
     "text": [
      "----- liquid composition -----\n",
      "n-butane: 0.028\n",
      "n-hexane: 0.972\n",
      "----- vapor composition -----\n",
      "n-butane: 0.257\n",
      "n-hexane: 0.743\n"
     ]
    }
   ],
   "source": [
    "print('----- liquid composition -----')\n",
    "xis = []\n",
    "for component in components:\n",
    "        zif, pvap = df.loc[component]['zif'], df.loc[component]['pvap']\n",
    "        ki = pvap / pressure\n",
    "        xi = zif / (1 + V*(ki - 1))\n",
    "        xis.append(xi)\n",
    "        print(f'{component}: {xi:.3f}')\n",
    "\n",
    "yis = []\n",
    "print('----- vapor composition -----')\n",
    "for component in components:\n",
    "        zif, pvap = df.loc[component]['zif'], df.loc[component]['pvap']\n",
    "        ki = pvap / pressure\n",
    "        yi = zif*ki / (1 + V*(ki - 1))\n",
    "        yis.append(yi)\n",
    "        print(f'{component}: {yi:.3f}')\n",
    "\n",
    "results = pd.DataFrame({'component':components, 'x':xis, 'y':yis}).set_index('component')"
   ]
  },
  {
   "cell_type": "markdown",
   "metadata": {},
   "source": [
    "now we can check these numbers to make sure they're right.\n",
    "\n",
    "- we know x and y should sum to 1\n",
    "- we know our calculated pressure should be $\\sum x_i P^{\\text{vap}}_i$\n",
    "- our liquid and vapor volumes must add up to 30 liters"
   ]
  },
  {
   "cell_type": "code",
   "execution_count": 5,
   "metadata": {},
   "outputs": [
    {
     "name": "stdout",
     "output_type": "stream",
     "text": [
      "sum y: 1.0000\n",
      "sum x: 1.0000\n",
      "\n",
      "pressure: 0.2616 bar\n",
      "\n",
      "liquid volume: 0.0894 L\n",
      "vapor volume: 29.9106 L\n",
      "volume sum: 30.00\n"
     ]
    }
   ],
   "source": [
    "sumy = results['y'].sum()\n",
    "sumx = results['x'].sum()\n",
    "print(f'sum y: {sumy:.4f}\\nsum x: {sumx:.4f}\\n')\n",
    "\n",
    "calcp = np.dot(results['x'], df['pvap'])\n",
    "print(f'pressure: {calcp*1e-5:.4f} bar\\n')\n",
    "\n",
    "liquid_volume = 0\n",
    "L = 1 - V\n",
    "for component in components:\n",
    "    zif, pvap, mw, density = df.loc[component]['zif'], df.loc[component]['pvap'], df.loc[component]['mw'], df.loc[component]['density']\n",
    "    ki = pvap / pressure\n",
    "    xi = zif / (1 + V*(ki - 1))\n",
    "    liquid_volume += L * xi * mw / density / 1e6\n",
    "print(f'liquid volume: {liquid_volume*1e3:.4f} L')\n",
    "\n",
    "vapor_volume = 0\n",
    "for component in components:\n",
    "    zif, pvap, mw, density = df.loc[component]['zif'], df.loc[component]['pvap'], df.loc[component]['mw'], df.loc[component]['density']\n",
    "    ki = pvap / pressure\n",
    "    yi = zif * ki/ (1 + V*(ki - 1))\n",
    "    vapor_volume += V * yi * R * T / pressure\n",
    "print(f'vapor volume: {vapor_volume*1e3:.4f} L')\n",
    "\n",
    "print(f'volume sum: {(liquid_volume + vapor_volume)*1e3:.2f}')"
   ]
  },
  {
   "cell_type": "markdown",
   "metadata": {},
   "source": [
    "boom! they check out."
   ]
  },
  {
   "cell_type": "code",
   "execution_count": 6,
   "metadata": {},
   "outputs": [],
   "source": [
    "# filler text"
   ]
  }
 ],
 "metadata": {
  "kernelspec": {
   "display_name": "base",
   "language": "python",
   "name": "python3"
  },
  "language_info": {
   "codemirror_mode": {
    "name": "ipython",
    "version": 3
   },
   "file_extension": ".py",
   "mimetype": "text/x-python",
   "name": "python",
   "nbconvert_exporter": "python",
   "pygments_lexer": "ipython3",
   "version": "3.11.5"
  }
 },
 "nbformat": 4,
 "nbformat_minor": 2
}
