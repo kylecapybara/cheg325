{
 "cells": [
  {
   "cell_type": "markdown",
   "metadata": {},
   "source": [
    "---\n",
    "title: cheg325 homework4 extra1\n",
    "author: k.wodehouse\n",
    "date: today\n",
    "format:\n",
    "    html:   \n",
    "        self-contained: true\n",
    "---"
   ]
  },
  {
   "cell_type": "markdown",
   "metadata": {},
   "source": [
    "using this as a notebook to run deepseek's code"
   ]
  },
  {
   "cell_type": "markdown",
   "metadata": {},
   "source": [
    "# (a)"
   ]
  },
  {
   "cell_type": "code",
   "execution_count": 2,
   "metadata": {},
   "outputs": [
    {
     "name": "stdout",
     "output_type": "stream",
     "text": [
      "Part a: Pressure = 1.4906 bar\n",
      "Liquid composition (x_C5, x_C6, x_C7) = [0.38620617 0.29674503 0.3170488 ]\n",
      "Vapor composition (y_C5, y_C6, y_C7) = [0.71379383 0.20325497 0.0829512 ]\n"
     ]
    }
   ],
   "source": [
    "import numpy as np\n",
    "from scipy.optimize import fsolve\n",
    "\n",
    "# Given data\n",
    "z = np.array([0.55, 0.25, 0.20])  # Mole fractions of C5, C6, C7 in feed\n",
    "P_vap = np.array([2.755, 1.021, 0.390])  # Vapor pressures at 69°C in bar\n",
    "L = 0.5\n",
    "V = 1 - L\n",
    "\n",
    "# Define the function to find the root of\n",
    "def f(P):\n",
    "    K = P_vap / P\n",
    "    x = z / (L + K * V)\n",
    "    return np.sum(x) - 1\n",
    "\n",
    "# Initial guess for pressure\n",
    "P_initial_guess = 1.0  # Start with an initial guess of 1 bar\n",
    "\n",
    "# Solve for the pressure\n",
    "P_solution = fsolve(f, P_initial_guess)[0]\n",
    "\n",
    "# Calculate the equilibrium compositions\n",
    "K_solution = P_vap / P_solution\n",
    "x_solution = z / (L + K_solution * V)\n",
    "y_solution = K_solution * x_solution\n",
    "\n",
    "print(f\"Part a: Pressure = {P_solution:.4f} bar\")\n",
    "print(f\"Liquid composition (x_C5, x_C6, x_C7) = {x_solution}\")\n",
    "print(f\"Vapor composition (y_C5, y_C6, y_C7) = {y_solution}\")"
   ]
  },
  {
   "cell_type": "markdown",
   "metadata": {},
   "source": [
    "the output isn't pretty, but it matches up with my solution (which is hopefully right)."
   ]
  },
  {
   "cell_type": "markdown",
   "metadata": {},
   "source": [
    "# (b)"
   ]
  },
  {
   "cell_type": "code",
   "execution_count": 1,
   "metadata": {},
   "outputs": [
    {
     "name": "stdout",
     "output_type": "stream",
     "text": [
      "Part b: Pressure = 1.2850 bar\n",
      "Fraction of feed that is liquid (L) = 0.2715\n",
      "Liquid composition (x_C5, x_C6, x_C7) = [0.3        0.29400379 0.40599621]\n",
      "Vapor composition (y_C5, y_C6, y_C7) = [0.64318246 0.23359847 0.12321907]\n"
     ]
    }
   ],
   "source": [
    "import numpy as np\n",
    "from scipy.optimize import fsolve\n",
    "\n",
    "# Given data\n",
    "z = np.array([0.55, 0.25, 0.20])  # Mole fractions of C5, C6, C7 in feed\n",
    "P_vap = np.array([2.755, 1.021, 0.390])  # Vapor pressures at 69°C in bar\n",
    "x_C5_target = 0.30\n",
    "\n",
    "# Define the function to find the root of\n",
    "def f(variables):\n",
    "    P, L = variables\n",
    "    V = 1 - L\n",
    "    K = P_vap / P\n",
    "    \n",
    "    # Calculate x_C5 and ensure it matches the target\n",
    "    x_C5 = z[0] / (L + K[0] * V)\n",
    "    \n",
    "    # Calculate x_C6 and x_C7\n",
    "    x_C6 = z[1] / (L + K[1] * V)\n",
    "    x_C7 = z[2] / (L + K[2] * V)\n",
    "    \n",
    "    # Sum of liquid mole fractions should be 1\n",
    "    sum_x = x_C5 + x_C6 + x_C7\n",
    "    \n",
    "    # Return the difference from the target conditions\n",
    "    return [x_C5 - x_C5_target, sum_x - 1]\n",
    "\n",
    "# Initial guesses for pressure and L\n",
    "initial_guesses = [1.0, 0.5]  # Start with an initial guess of 1 bar and L = 0.5\n",
    "\n",
    "# Solve for the pressure and L\n",
    "solution = fsolve(f, initial_guesses)\n",
    "P_solution, L_solution = solution\n",
    "\n",
    "# Calculate the equilibrium compositions\n",
    "V_solution = 1 - L_solution\n",
    "K_solution = P_vap / P_solution\n",
    "x_solution = z / (L_solution + K_solution * V_solution)\n",
    "y_solution = K_solution * x_solution\n",
    "\n",
    "print(f\"Part b: Pressure = {P_solution:.4f} bar\")\n",
    "print(f\"Fraction of feed that is liquid (L) = {L_solution:.4f}\")\n",
    "print(f\"Liquid composition (x_C5, x_C6, x_C7) = {x_solution}\")\n",
    "print(f\"Vapor composition (y_C5, y_C6, y_C7) = {y_solution}\")"
   ]
  },
  {
   "cell_type": "markdown",
   "metadata": {},
   "source": [
    "this output is similarly ugly with way too many sigfigs and literally just printing out lists, but the numbers match my solution."
   ]
  },
  {
   "cell_type": "markdown",
   "metadata": {},
   "source": [
    "what worked?\n",
    "\n",
    "- asking it to write code\n",
    "- breaking down the question into part a and part b (since it failed to do both at the start)\n",
    "- literally copy pasting screenshots of the question into it\n",
    "\n",
    "what didn't work?\n",
    "\n",
    "- asking it to solve it all at once\n",
    "- commenting on an inconsistency in the provided code (the 'fixed' code was not fixed)\n",
    "- asking it to solve the question without saying to use code (it didn't give numerical answers with the first prompt)\n",
    "\n",
    "how could these results be verified?\n",
    " \n",
    "- checks for physical viability of the answers (does $\\sum x_i = 1$ ? is the pressure reasonably close to the component's vapor pressures?)\n",
    "- putting their code into IDE and testing if it runs correctly\n",
    "- reading through their derivations to make sure they didn't make an algebra mistake\n",
    "- impossible to truly verify them without knowing the correct answer already from my previous work with this question"
   ]
  },
  {
   "cell_type": "code",
   "execution_count": 3,
   "metadata": {},
   "outputs": [],
   "source": [
    "# filler"
   ]
  }
 ],
 "metadata": {
  "kernelspec": {
   "display_name": "base",
   "language": "python",
   "name": "python3"
  },
  "language_info": {
   "codemirror_mode": {
    "name": "ipython",
    "version": 3
   },
   "file_extension": ".py",
   "mimetype": "text/x-python",
   "name": "python",
   "nbconvert_exporter": "python",
   "pygments_lexer": "ipython3",
   "version": "3.11.5"
  }
 },
 "nbformat": 4,
 "nbformat_minor": 2
}
