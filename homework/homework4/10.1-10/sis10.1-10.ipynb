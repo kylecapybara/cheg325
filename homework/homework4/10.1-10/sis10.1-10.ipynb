{
 "cells": [
  {
   "cell_type": "markdown",
   "metadata": {},
   "source": [
    "---\n",
    "title: SIS 10.1-10\n",
    "author: k.wodehouse\n",
    "date: today\n",
    "format:\n",
    "    html:   \n",
    "        self-contained: true\n",
    "---"
   ]
  },
  {
   "cell_type": "code",
   "execution_count": 39,
   "metadata": {},
   "outputs": [
    {
     "data": {
      "text/html": [
       "<div>\n",
       "<style scoped>\n",
       "    .dataframe tbody tr th:only-of-type {\n",
       "        vertical-align: middle;\n",
       "    }\n",
       "\n",
       "    .dataframe tbody tr th {\n",
       "        vertical-align: top;\n",
       "    }\n",
       "\n",
       "    .dataframe thead th {\n",
       "        text-align: right;\n",
       "    }\n",
       "</style>\n",
       "<table border=\"1\" class=\"dataframe\">\n",
       "  <thead>\n",
       "    <tr style=\"text-align: right;\">\n",
       "      <th></th>\n",
       "      <th>zif</th>\n",
       "      <th>pvap</th>\n",
       "    </tr>\n",
       "    <tr>\n",
       "      <th>component</th>\n",
       "      <th></th>\n",
       "      <th></th>\n",
       "    </tr>\n",
       "  </thead>\n",
       "  <tbody>\n",
       "    <tr>\n",
       "      <th>n-pentane</th>\n",
       "      <td>0.55</td>\n",
       "      <td>2.755</td>\n",
       "    </tr>\n",
       "    <tr>\n",
       "      <th>n-hexane</th>\n",
       "      <td>0.25</td>\n",
       "      <td>1.021</td>\n",
       "    </tr>\n",
       "    <tr>\n",
       "      <th>n-heptane</th>\n",
       "      <td>0.20</td>\n",
       "      <td>0.390</td>\n",
       "    </tr>\n",
       "  </tbody>\n",
       "</table>\n",
       "</div>"
      ],
      "text/plain": [
       "            zif   pvap\n",
       "component             \n",
       "n-pentane  0.55  2.755\n",
       "n-hexane   0.25  1.021\n",
       "n-heptane  0.20  0.390"
      ]
     },
     "execution_count": 39,
     "metadata": {},
     "output_type": "execute_result"
    }
   ],
   "source": [
    "import numpy as np\n",
    "from scipy.optimize import fsolve\n",
    "import pandas as pd\n",
    "\n",
    "df = pd.DataFrame({'component':['n-pentane', 'n-hexane', 'n-heptane'], \n",
    "                    'zif':[0.55, 0.25, 0.20], 'pvap':[2.755, 1.021, 0.390]}).set_index('component')\n",
    "components = list(df.index)\n",
    "df"
   ]
  },
  {
   "cell_type": "markdown",
   "metadata": {},
   "source": [
    "# (a)"
   ]
  },
  {
   "cell_type": "markdown",
   "metadata": {},
   "source": [
    "if the effluent of our flash is 50/50 vapor and liquid, that means \n",
    "$$\n",
    "V = L = 0.5\n",
    "$$\n",
    "and now we (i) may use this in our (my) calculations\n",
    "\n",
    "the general outline of how this works\n",
    "\n",
    "1. guess a pressure\n",
    "2. calculate $\\sum y_i$\n",
    "3. if it equals 1, you're good and thats the pressure\n",
    "4. if not, guess another pressure."
   ]
  },
  {
   "cell_type": "code",
   "execution_count": 40,
   "metadata": {},
   "outputs": [
    {
     "name": "stdout",
     "output_type": "stream",
     "text": [
      "pressure: 1.491 bar\n"
     ]
    },
    {
     "data": {
      "text/html": [
       "<div>\n",
       "<style scoped>\n",
       "    .dataframe tbody tr th:only-of-type {\n",
       "        vertical-align: middle;\n",
       "    }\n",
       "\n",
       "    .dataframe tbody tr th {\n",
       "        vertical-align: top;\n",
       "    }\n",
       "\n",
       "    .dataframe thead th {\n",
       "        text-align: right;\n",
       "    }\n",
       "</style>\n",
       "<table border=\"1\" class=\"dataframe\">\n",
       "  <thead>\n",
       "    <tr style=\"text-align: right;\">\n",
       "      <th></th>\n",
       "      <th>x</th>\n",
       "      <th>y</th>\n",
       "    </tr>\n",
       "    <tr>\n",
       "      <th>component</th>\n",
       "      <th></th>\n",
       "      <th></th>\n",
       "    </tr>\n",
       "  </thead>\n",
       "  <tbody>\n",
       "    <tr>\n",
       "      <th>n-pentane</th>\n",
       "      <td>0.386206</td>\n",
       "      <td>0.713794</td>\n",
       "    </tr>\n",
       "    <tr>\n",
       "      <th>n-hexane</th>\n",
       "      <td>0.296745</td>\n",
       "      <td>0.203255</td>\n",
       "    </tr>\n",
       "    <tr>\n",
       "      <th>n-heptane</th>\n",
       "      <td>0.317049</td>\n",
       "      <td>0.082951</td>\n",
       "    </tr>\n",
       "  </tbody>\n",
       "</table>\n",
       "</div>"
      ],
      "text/plain": [
       "                  x         y\n",
       "component                    \n",
       "n-pentane  0.386206  0.713794\n",
       "n-hexane   0.296745  0.203255\n",
       "n-heptane  0.317049  0.082951"
      ]
     },
     "execution_count": 40,
     "metadata": {},
     "output_type": "execute_result"
    }
   ],
   "source": [
    "def isothermal_flash(Ptotal, V):\n",
    "    y_sum = 0\n",
    "    for component in components:\n",
    "        ki = df.loc[component]['pvap'] / Ptotal\n",
    "        zif = df.loc[component]['zif']\n",
    "        y_sum += zif * ki / (1 + V*(ki - 1))\n",
    "\n",
    "    return 1 - y_sum\n",
    "\n",
    "pressure = fsolve(isothermal_flash, 2.0, args=(0.5))[0]\n",
    "print(f'pressure: {pressure:.3f} bar')\n",
    "\n",
    "def equlibrium_comp(Ptotal, V):\n",
    "    report = pd.DataFrame()\n",
    "    for component in components:\n",
    "        ki = df.loc[component]['pvap'] / Ptotal\n",
    "        zif = df.loc[component]['zif']\n",
    "        yi = zif * ki / (1 + V*(ki - 1))\n",
    "        xi = yi / ki\n",
    "\n",
    "        report = pd.concat([report, pd.DataFrame({'component':component, 'x':[xi], 'y':[yi]})], axis=0)\n",
    "\n",
    "\n",
    "    return report.set_index('component')\n",
    "\n",
    "equlibrium_comp(pressure, 0.5)"
   ]
  },
  {
   "cell_type": "markdown",
   "metadata": {},
   "source": [
    "# (b)\n",
    "\n",
    "now instead of already knowing $V$ and $L$ we need to iterate for the $V$ (or you could iterate for $L$) during each iteration of the pressure.\n",
    "\n",
    "the general outline for this process is\n",
    "\n",
    "1. guess a pressure (or let fsolve do it for you)\n",
    "2. iterate to find what the $V$ will be at that pressure such that $\\sum x_i = 1$\n",
    "3. calculate $x_i$ with the guessed pressure and iteratively found $V$\n",
    "4. if $\\text{abs}(x_i - 0.3) = 0$, you're good\n",
    "5. otherwise, guess another pressure (or let fsolve do it for you)"
   ]
  },
  {
   "cell_type": "code",
   "execution_count": 41,
   "metadata": {},
   "outputs": [
    {
     "name": "stdout",
     "output_type": "stream",
     "text": [
      "pressure: 1.285 bar\n",
      "liquid: 0.272\n",
      "\n",
      "----- vapor phase composition -----\n",
      "n-pentane y: 0.643\n",
      "n-hexane y: 0.234\n",
      "n-heptane y: 0.123\n",
      "\n",
      "----- liquid phase composition -----\n",
      "n-pentane x: 0.300\n",
      "n-hexane x: 0.294\n",
      "n-heptane x: 0.406\n"
     ]
    }
   ],
   "source": [
    "def get_v(V, Ptotal):\n",
    "    sum_thingy = 0\n",
    "    for component in components:\n",
    "        z_iF = df.loc[component]['zif']\n",
    "        pvap = df.loc[component]['pvap']\n",
    "        ki = pvap / Ptotal\n",
    "        sum_thingy += (z_iF * ki)/(1 + V*(ki - 1))\n",
    "    return abs(1 - sum_thingy)\n",
    "\n",
    "def pentane_flash(Ptotal):\n",
    "    V = fsolve(get_v, 0.5, (Ptotal))[0] # hope there aren't 2 roots for some reason\n",
    "    ki = df.loc['n-pentane']['pvap'] / Ptotal\n",
    "    zif = df.loc['n-pentane']['zif']\n",
    "\n",
    "    xi = zif / (1 + V*(ki - 1))\n",
    "    return abs(0.3 - xi)\n",
    "\n",
    "pressure = fsolve(pentane_flash, 2.0)[0]\n",
    "V = fsolve(get_v, 0.5, (pressure))[0]\n",
    "print(f'pressure: {pressure:.3f} bar')\n",
    "print(f'liquid: {1 - V:.3f}')\n",
    "\n",
    "def generate_report():\n",
    "    print('\\n----- vapor phase composition -----')\n",
    "    for component in components:\n",
    "        ki = df.loc[component]['pvap'] / pressure\n",
    "        zif = df.loc[component]['zif']\n",
    "        yi = zif * ki / (1 + V*(ki - 1))\n",
    "        print(f'{component} y: {yi:.3f}')\n",
    "\n",
    "    print('\\n----- liquid phase composition -----')\n",
    "    for component in components:\n",
    "        ki = df.loc[component]['pvap'] / pressure\n",
    "        zif = df.loc[component]['zif']\n",
    "        yi = zif * ki / (1 + V*(ki - 1))\n",
    "        xi = yi / ki\n",
    "        print(f'{component} x: {xi:.3f}')\n",
    "\n",
    "generate_report()"
   ]
  },
  {
   "cell_type": "code",
   "execution_count": 42,
   "metadata": {},
   "outputs": [],
   "source": [
    "# filler text"
   ]
  }
 ],
 "metadata": {
  "kernelspec": {
   "display_name": "base",
   "language": "python",
   "name": "python3"
  },
  "language_info": {
   "codemirror_mode": {
    "name": "ipython",
    "version": 3
   },
   "file_extension": ".py",
   "mimetype": "text/x-python",
   "name": "python",
   "nbconvert_exporter": "python",
   "pygments_lexer": "ipython3",
   "version": "3.11.5"
  }
 },
 "nbformat": 4,
 "nbformat_minor": 2
}
