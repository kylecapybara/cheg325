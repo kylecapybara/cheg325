{
 "cells": [
  {
   "cell_type": "code",
   "execution_count": null,
   "metadata": {},
   "outputs": [
    {
     "data": {
      "text/plain": [
       "(1.0195862518989796, 11.101859561476546)"
      ]
     },
     "execution_count": 267,
     "metadata": {},
     "output_type": "execute_result"
    }
   ],
   "source": [
    "import numpy as np\n",
    "import matplotlib.pyplot as plt\n",
    "from scipy.optimize import curve_fit\n",
    "N_acid = 100 / 98.079\n",
    "N_water = 200/18.015\n",
    "N_acid, N_water"
   ]
  },
  {
   "cell_type": "code",
   "execution_count": 268,
   "metadata": {},
   "outputs": [
    {
     "data": {
      "text/plain": [
       "-65369.22892134832"
      ]
     },
     "execution_count": 268,
     "metadata": {},
     "output_type": "execute_result"
    }
   ],
   "source": [
    "-np.interp(10.88859, N2, delH)"
   ]
  },
  {
   "cell_type": "code",
   "execution_count": 269,
   "metadata": {},
   "outputs": [
    {
     "data": {
      "text/plain": [
       "-7136.3175821004625"
      ]
     },
     "execution_count": 269,
     "metadata": {},
     "output_type": "execute_result"
    }
   ],
   "source": [
    "ans1 = 58370 * N_acid\n",
    "ans2 = -np.interp(10.88859, N2, delH) * N_acid  + ans1\n",
    "ans2"
   ]
  },
  {
   "cell_type": "markdown",
   "metadata": {},
   "source": [
    "(3)"
   ]
  },
  {
   "cell_type": "code",
   "execution_count": 270,
   "metadata": {},
   "outputs": [
    {
     "data": {
      "text/plain": [
       "(1.0195862518989796, 11.101859561476546, 10.88859283930058)"
      ]
     },
     "execution_count": 270,
     "metadata": {},
     "output_type": "execute_result"
    }
   ],
   "source": [
    "N_acid1 = 60 / 98.079\n",
    "N_water1 = 40 /18.015\n",
    "ratio1 = N_water1 / N_acid1\n",
    "N_acid, N_water, N_water / N_acid"
   ]
  },
  {
   "cell_type": "code",
   "execution_count": 271,
   "metadata": {},
   "outputs": [
    {
     "data": {
      "text/plain": [
       "(1.0195862518989796, 11.101859561476546, 10.88859283930058)"
      ]
     },
     "execution_count": 271,
     "metadata": {},
     "output_type": "execute_result"
    }
   ],
   "source": [
    "N_acid2 = 75 * 0.25 / 98.079\n",
    "N_water2 = 75 * 0.75 /18.015\n",
    "ratio2 = N_water2 / N_acid2\n",
    "N_acid, N_water, N_water / N_acid"
   ]
  },
  {
   "cell_type": "code",
   "execution_count": 272,
   "metadata": {},
   "outputs": [
    {
     "data": {
      "text/plain": [
       "(1.0195862518989796, 11.101859561476546, 10.88859283930058)"
      ]
     },
     "execution_count": 272,
     "metadata": {},
     "output_type": "execute_result"
    }
   ],
   "source": [
    "N_acid3 = 60 / 98.079 + 75 * 0.25 / 98.079\n",
    "N_water3 = 40 /18.015 + 75 * 0.75 /18.015\n",
    "ratio3 = N_water3 / N_acid3\n",
    "N_acid, N_water, N_water / N_acid"
   ]
  },
  {
   "cell_type": "code",
   "execution_count": 273,
   "metadata": {},
   "outputs": [
    {
     "name": "stdout",
     "output_type": "stream",
     "text": [
      "first interpolated: -52277 \n",
      "second interpolated: -68954 \n",
      "final interpolated: -59881\n"
     ]
    }
   ],
   "source": [
    "N2 = np.array([0.25, 1.0, 1.5, 2.33, 4.0, 5.44, 9.0, 10.1, 19.0, 20.0])\n",
    "delH = np.array([8242, 28200, 34980, 44690, 54440, 58370, 62800, 64850, 70710, 71970])\n",
    "\n",
    "# ratios are the mole ratios for each of the solutions (both added and the final)\n",
    "result1, result2, result3 = -np.interp(ratio1, N2, delH), -np.interp(ratio2, N2, delH), -np.interp(ratio3, N2, delH)\n",
    "print(f'first interpolated: {result1:.0f} \\nsecond interpolated: {result2:.0f} \\nfinal interpolated: {result3:.0f}')"
   ]
  },
  {
   "cell_type": "code",
   "execution_count": 274,
   "metadata": {},
   "outputs": [
    {
     "data": {
      "text/plain": [
       "-66676.61349977528"
      ]
     },
     "execution_count": 274,
     "metadata": {},
     "output_type": "execute_result"
    }
   ],
   "source": [
    "-np.interp(10.88859, N2, delH) * 1.020"
   ]
  },
  {
   "cell_type": "code",
   "execution_count": 275,
   "metadata": {},
   "outputs": [
    {
     "data": {
      "text/plain": [
       "(0.6117517511393876, 0.19117242223105865, 0.8029241733704463)"
      ]
     },
     "execution_count": 275,
     "metadata": {},
     "output_type": "execute_result"
    }
   ],
   "source": [
    "N_acid1, N_acid2, N_acid3"
   ]
  },
  {
   "cell_type": "code",
   "execution_count": 276,
   "metadata": {},
   "outputs": [
    {
     "data": {
      "text/plain": [
       "-2917.10434025657"
      ]
     },
     "execution_count": 276,
     "metadata": {},
     "output_type": "execute_result"
    }
   ],
   "source": [
    "N_acid3 * result3 - (N_acid2 * result2 + N_acid1 * result1)"
   ]
  },
  {
   "cell_type": "code",
   "execution_count": 277,
   "metadata": {},
   "outputs": [
    {
     "data": {
      "text/plain": [
       "[<matplotlib.lines.Line2D at 0x12e30c210>]"
      ]
     },
     "execution_count": 277,
     "metadata": {},
     "output_type": "execute_result"
    },
    {
     "data": {
      "image/png": "[encoded data removed]",
      "text/plain": [
       "<Figure size 640x480 with 1 Axes>"
      ]
     },
     "metadata": {},
     "output_type": "display_data"
    }
   ],
   "source": [
    "def func(n2, a, b, c, d):\n",
    "    return a + b * np.exp(-c * n2 ** d)\n",
    "\n",
    "popt = curve_fit(func, N2, delH, p0=[90000,0,1, 1])\n",
    "popt\n",
    "\n",
    "a, b, c, d = popt[0]\n",
    "plt.scatter(N2, delH)\n",
    "x = np.linspace(N2.min(), 20,1000)\n",
    "plt.plot(x, a + b * np.exp(-c * x ** d))"
   ]
  },
  {
   "cell_type": "markdown",
   "metadata": {},
   "source": [
    "(e)"
   ]
  },
  {
   "cell_type": "code",
   "execution_count": null,
   "metadata": {},
   "outputs": [
    {
     "data": {
      "text/plain": [
       "(0.5097931259494898, 2.7754648903691366, 5.44429641965029)"
      ]
     },
     "execution_count": 278,
     "metadata": {},
     "output_type": "execute_result"
    }
   ],
   "source": [
    "N_acid = 50 / 98.079\n",
    "N_water = 50 /18.015\n",
    "ratio = N_water / N_acid\n",
    "N_acid, N_water, N_water / N_acid"
   ]
  },
  {
   "cell_type": "code",
   "execution_count": null,
   "metadata": {},
   "outputs": [],
   "source": []
  }
 ],
 "metadata": {
  "kernelspec": {
   "display_name": "base",
   "language": "python",
   "name": "python3"
  },
  "language_info": {
   "codemirror_mode": {
    "name": "ipython",
    "version": 3
   },
   "file_extension": ".py",
   "mimetype": "text/x-python",
   "name": "python",
   "nbconvert_exporter": "python",
   "pygments_lexer": "ipython3",
   "version": "3.11.5"
  }
 },
 "nbformat": 4,
 "nbformat_minor": 2
}
