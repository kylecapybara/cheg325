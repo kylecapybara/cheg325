{
 "cells": [
  {
   "cell_type": "markdown",
   "id": "edc9a450",
   "metadata": {},
   "source": [
    "---\n",
    "title: cheg325 homework7 SIS 11.4-1\n",
    "author: kyle wodehouse\n",
    "date: today\n",
    "format:\n",
    "    html:\n",
    "        self-contained: true\n",
    "---"
   ]
  },
  {
   "cell_type": "markdown",
   "id": "7aa81742",
   "metadata": {},
   "source": [
    "# a\n",
    "\n",
    "for two liquid phases we know that for each component the fugacity in each phase is equal\n",
    "\n",
    "$$\n",
    "\\bar{f}_i^I (T,P,\\underline{x})= \\bar{f}_i^{II}(T,P,\\underline{x})  \\tag{for $i\\in  \\{1,2,3\\}$}\n",
    "$$\n",
    "\n",
    "but since they're liquids and have the same vapor pressure at this temperature\n",
    "\n",
    "$$\n",
    "x_i^I \\gamma_i^{I} = x_i^{II} \\gamma_i^{II} \\tag{for each component $i$}\n",
    "$$\n",
    "\n",
    "and just to make sure i get all my delicious points i'll write out all 3 equations\n",
    "\n",
    "$$\n",
    "x_1^I \\gamma_1^{I} = x_1^{II}\\gamma_1^{II}\n",
    "$$\n",
    "\n",
    "$$\n",
    "x_2^I \\gamma_2^{I} = x_2^{II} \\gamma_2^{II}\n",
    "$$\n",
    "\n",
    "$$\n",
    "x_3^I \\gamma_3^{I} = x_3^{II} \\gamma_3^{II}\n",
    "$$\n",
    "\n",
    "now i think this is what is wanted, but some of my friends pointed out that there are 3 mass balances that also need satisfied\n",
    "\n",
    "$$\n",
    "N_i = N_i^I + N_i^{II} \\tag{for $i\\in  \\{1,2,3\\}$}\n",
    "$$\n",
    "\n",
    "---"
   ]
  },
  {
   "cell_type": "markdown",
   "id": "b9c2ea82",
   "metadata": {},
   "source": [
    "# b\n",
    "\n",
    "this time we only have an equation to solve for species 1 since species 2 and 3 are completely immiscible. let phase $I$ be rich in species 2 and phase $II$ be rich in species 3\n",
    "\n",
    "$$\n",
    "\\bar{f}_1^I (T,P,\\bar{x}) = \\bar{f}_1^{II} (T,P,\\bar{x})\n",
    "$$\n",
    "\n",
    "which could actually be used in a problem as\n",
    "\n",
    "$$\n",
    "x_1^I \\gamma_1^{I} = x_1^{II}\\gamma_1^{II}\n",
    "$$\n",
    "\n",
    "then to get the other compositions,\n",
    "\n",
    "$$\n",
    "x_2^I = 1 - x_1^I\n",
    "$$\n",
    "\n",
    "$$\n",
    "x_3^{II} = 1 - x_1^{II}\n",
    "$$\n",
    "\n",
    "and that gets you the compositions. again you could argue theres a mole balance here (even though the question asks for COMPOSITION), so\n",
    "\n",
    "$$\n",
    "N_1 = N_1^{I} + N_1^{II} \\hspace{3em} N_2 = N_2^I \\hspace{3em} N_3 = N_3^{II} \n",
    "$$\n",
    "\n",
    "---"
   ]
  },
  {
   "cell_type": "markdown",
   "id": "05b724ea",
   "metadata": {},
   "source": [
    "# c\n",
    "\n",
    "for three phases it might be easy to think like oh okay (phase 1 in equalibrium with phase 2), (phase 2 in equalibrium with phase 3), (phase 1 in equalibrium with phase 3). but only two of these are independent! if phase 1 is in equlibrium with phase 2 and phase 3, then phase 2 MUST be in equlibrium with phase 3. this is the same logic as the 0th law of thermodynamics (hopefully i'm referencing that correctly)\n",
    "\n",
    "$$\n",
    "\\bar{f}_i^I (T,P,\\bar{x}) = \\bar{f}_i^{II} (T,P,\\bar{x}) \\tag{for $i\\in  \\{1,2,3\\}$}\n",
    "$$\n",
    "\n",
    "$$\n",
    "\\bar{f}_i^I (T,P,\\bar{x}) = \\bar{f}_i^{III} (T,P,\\bar{x}) \\tag{for $i\\in  \\{1,2,3\\}$}\n",
    "$$\n",
    "\n",
    "and the obligatory mass balances that need fufilled but like in my soul i feel like what's above is all you're looking for \n",
    "\n",
    "$$\n",
    "N_i = N_i^I + N_i^{II} + N_i^{III} \\tag{for $i\\in  \\{1,2,3\\}$}\n",
    "$$"
   ]
  },
  {
   "cell_type": "code",
   "execution_count": null,
   "id": "d26d8004",
   "metadata": {},
   "outputs": [],
   "source": [
    "#filler"
   ]
  }
 ],
 "metadata": {
  "kernelspec": {
   "display_name": "base",
   "language": "python",
   "name": "python3"
  },
  "language_info": {
   "name": "python",
   "version": "3.11.5"
  }
 },
 "nbformat": 4,
 "nbformat_minor": 5
}
