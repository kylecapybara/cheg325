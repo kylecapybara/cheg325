{
 "cells": [
  {
   "cell_type": "markdown",
   "id": "09918426",
   "metadata": {},
   "source": [
    "---\n",
    "title: cheg325 homework7 aspen problem\n",
    "author: sebastian blough, kyle wodehouse\n",
    "date: today\n",
    "format:\n",
    "    html:\n",
    "        self-contained: true\n",
    "---"
   ]
  },
  {
   "cell_type": "markdown",
   "id": "63b11c57",
   "metadata": {},
   "source": [
    "we can do this by just setting up a flow sheet that has a mixter that takes in the appropriate mole ratio. \n",
    "\n",
    "<img src=\"components.png\" alt=\"picture of aspen\" width=\"800\"/>\n",
    "\n",
    "and reading into chapter 12 of sandler's aspen text we see that he does this sort of calculation by using the decanter block.\n",
    "\n",
    "<img src=\"flowsheet.png\" alt=\"picture of aspen\" width=\"800\"/>\n",
    "\n",
    "<img src=\"streams.png\" alt=\"picture of aspen\" width=\"800\"/>\n",
    "\n",
    "now we can calculate the $K_{OW}$ by using the formula given in the question and copy pasting the values from the streams"
   ]
  },
  {
   "cell_type": "code",
   "execution_count": 6,
   "id": "8dfa6986",
   "metadata": {},
   "outputs": [
    {
     "name": "stdout",
     "output_type": "stream",
     "text": [
      "K_ow = 4.1051\n",
      "log10(K) = 0.6133\n"
     ]
    }
   ],
   "source": [
    "K = 0.0128363611277548/0.00312693797791961\t\n",
    "print(f'K_ow = {K:.4f}')\n",
    "\n",
    "import numpy as np\n",
    "print(f'log10(K) = {np.log10(K):.4f}')"
   ]
  },
  {
   "cell_type": "code",
   "execution_count": 7,
   "id": "7160ea08",
   "metadata": {},
   "outputs": [],
   "source": [
    "# filler"
   ]
  }
 ],
 "metadata": {
  "kernelspec": {
   "display_name": "base",
   "language": "python",
   "name": "python3"
  },
  "language_info": {
   "codemirror_mode": {
    "name": "ipython",
    "version": 3
   },
   "file_extension": ".py",
   "mimetype": "text/x-python",
   "name": "python",
   "nbconvert_exporter": "python",
   "pygments_lexer": "ipython3",
   "version": "3.11.5"
  }
 },
 "nbformat": 4,
 "nbformat_minor": 5
}
