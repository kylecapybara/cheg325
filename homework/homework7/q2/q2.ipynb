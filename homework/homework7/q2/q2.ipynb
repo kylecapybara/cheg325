{
 "cells": [
  {
   "cell_type": "markdown",
   "id": "96edaf62",
   "metadata": {},
   "source": [
    "---\n",
    "title: cheg325 homework7 SIS 11.5-6\n",
    "author: kyle wodehouse\n",
    "date: today\n",
    "format:\n",
    "    html:\n",
    "        self-contained: true\n",
    "---"
   ]
  },
  {
   "cell_type": "markdown",
   "id": "c314213e",
   "metadata": {},
   "source": [
    "let my system have $\\mathcal{C}$ components spread across $\\mathcal{P}$ phases. I'll first assume that we don't need to worry about reactions. we know that for a system to be fully specified we need to have $\\mathcal{P} (\\mathcal{C} + 1)$ variables specified since there are $\\mathcal{C}+1$ variables needed per phase (i.e. composition + pressure + temperature). "
   ]
  },
  {
   "cell_type": "markdown",
   "id": "3cf9b906",
   "metadata": {},
   "source": [
    "we know that the temperature must be the same on both sides of the membrane which gives us $\\mathcal{P} - 1$ more specification\n"
   ]
  },
  {
   "cell_type": "markdown",
   "id": "f9690f83",
   "metadata": {},
   "source": [
    "the condition for equlibrium that $\\bar{G}^I = \\bar{G}^{II}$ gives us $(\\mathcal{C}-2) (\\mathcal{P}-1)$ since only $\\mathcal{C}-2$ can move between phases. "
   ]
  },
  {
   "cell_type": "markdown",
   "id": "00c79413",
   "metadata": {},
   "source": [
    "now, we can figure out our phase rule\n",
    "\n",
    "\n",
    "\\begin{align*}\n",
    "    \\mathcal{F} &= \\mathcal{P}(\\mathcal{C} + 1) - \\left[ (\\mathcal{P} - 1) + (\\mathcal{C}-2)(\\mathcal{P} - 1) \\right] \\\\\n",
    "    &= \\mathcal{P}\\mathcal{C} + \\mathcal{P} - \\left[ \\mathcal{P} - 1 + (\\mathcal{C} - 2)(\\mathcal{P} - 1) \\right] \\\\\n",
    "    &= \\mathcal{P}\\mathcal{C} + \\mathcal{P} - \\left[ \\mathcal{P} - 1 + \\mathcal{C}(\\mathcal{P} - 1) - 2(\\mathcal{P} - 1) \\right] \\\\\n",
    "    &= \\mathcal{P}\\mathcal{C} + \\mathcal{P} - \\left[ -\\mathcal{P} + 1 + \\mathcal{C}(\\mathcal{P} - 1) \\right] \\\\\n",
    "    &= \\mathcal{P}\\mathcal{C} + \\mathcal{P} + \\mathcal{P} - 1 - \\mathcal{C}(\\mathcal{P} - 1) \\\\\n",
    "    &= \\mathcal{P}\\mathcal{C} - \\mathcal{P}\\mathcal{C} + 2\\mathcal{P} + \\mathcal{C} - 1 \\\\\n",
    "    &= 2\\mathcal{P} + \\mathcal{C} - 1\n",
    "\\end{align*}"
   ]
  },
  {
   "cell_type": "markdown",
   "id": "f2b9253b",
   "metadata": {},
   "source": [
    "and our osmotic equlibrium is two phases, so\n",
    "\n",
    "$$\n",
    "\\boxed{\\mathcal{F} = C+3}\n",
    "$$"
   ]
  },
  {
   "cell_type": "code",
   "execution_count": 3,
   "id": "038d6510",
   "metadata": {},
   "outputs": [],
   "source": [
    "# filler"
   ]
  }
 ],
 "metadata": {
  "kernelspec": {
   "display_name": "base",
   "language": "python",
   "name": "python3"
  },
  "language_info": {
   "codemirror_mode": {
    "name": "ipython",
    "version": 3
   },
   "file_extension": ".py",
   "mimetype": "text/x-python",
   "name": "python",
   "nbconvert_exporter": "python",
   "pygments_lexer": "ipython3",
   "version": "3.11.5"
  }
 },
 "nbformat": 4,
 "nbformat_minor": 5
}
