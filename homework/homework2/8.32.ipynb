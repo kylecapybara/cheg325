{
 "cells": [
  {
   "cell_type": "markdown",
   "metadata": {},
   "source": [
    "---\n",
    "title: cheg325 hw2q2 coding for tedious math\n",
    "author: k.wodehouse\n",
    "date: today\n",
    "format:\n",
    "    html:\n",
    "        self-contained: true\n",
    "---"
   ]
  },
  {
   "cell_type": "markdown",
   "metadata": {},
   "source": [
    "These calculations are extremely easy, but doing them by hand is prone to errors. i put the data in a tab-separated text file and imported it here as a pandas dataframe to lower the chances of human errors."
   ]
  },
  {
   "cell_type": "code",
   "execution_count": 2,
   "metadata": {},
   "outputs": [
    {
     "data": {
      "text/html": [
       "<div>\n",
       "<style scoped>\n",
       "    .dataframe tbody tr th:only-of-type {\n",
       "        vertical-align: middle;\n",
       "    }\n",
       "\n",
       "    .dataframe tbody tr th {\n",
       "        vertical-align: top;\n",
       "    }\n",
       "\n",
       "    .dataframe thead th {\n",
       "        text-align: right;\n",
       "    }\n",
       "</style>\n",
       "<table border=\"1\" class=\"dataframe\">\n",
       "  <thead>\n",
       "    <tr style=\"text-align: right;\">\n",
       "      <th></th>\n",
       "      <th>h_formation</th>\n",
       "      <th>g_formation</th>\n",
       "    </tr>\n",
       "    <tr>\n",
       "      <th>species</th>\n",
       "      <th></th>\n",
       "      <th></th>\n",
       "    </tr>\n",
       "  </thead>\n",
       "  <tbody>\n",
       "    <tr>\n",
       "      <th>N2</th>\n",
       "      <td>0.0</td>\n",
       "      <td>0.0</td>\n",
       "    </tr>\n",
       "    <tr>\n",
       "      <th>H2</th>\n",
       "      <td>0.0</td>\n",
       "      <td>0.0</td>\n",
       "    </tr>\n",
       "    <tr>\n",
       "      <th>NH3</th>\n",
       "      <td>-46.1</td>\n",
       "      <td>-16.5</td>\n",
       "    </tr>\n",
       "    <tr>\n",
       "      <th>C3H8</th>\n",
       "      <td>-104.7</td>\n",
       "      <td>-24.3</td>\n",
       "    </tr>\n",
       "    <tr>\n",
       "      <th>C2H4</th>\n",
       "      <td>52.5</td>\n",
       "      <td>68.5</td>\n",
       "    </tr>\n",
       "    <tr>\n",
       "      <th>CH4</th>\n",
       "      <td>-74.5</td>\n",
       "      <td>-50.5</td>\n",
       "    </tr>\n",
       "    <tr>\n",
       "      <th>CaCO3</th>\n",
       "      <td>-1206.9</td>\n",
       "      <td>-1128.8</td>\n",
       "    </tr>\n",
       "    <tr>\n",
       "      <th>CaO</th>\n",
       "      <td>-635.1</td>\n",
       "      <td>-604.0</td>\n",
       "    </tr>\n",
       "    <tr>\n",
       "      <th>CO2</th>\n",
       "      <td>-393.5</td>\n",
       "      <td>-394.4</td>\n",
       "    </tr>\n",
       "    <tr>\n",
       "      <th>CO</th>\n",
       "      <td>-110.5</td>\n",
       "      <td>-137.2</td>\n",
       "    </tr>\n",
       "    <tr>\n",
       "      <th>H2O</th>\n",
       "      <td>-241.8</td>\n",
       "      <td>-228.6</td>\n",
       "    </tr>\n",
       "  </tbody>\n",
       "</table>\n",
       "</div>"
      ],
      "text/plain": [
       "         h_formation  g_formation\n",
       "species                          \n",
       "N2               0.0          0.0\n",
       "H2               0.0          0.0\n",
       "NH3            -46.1        -16.5\n",
       "C3H8          -104.7        -24.3\n",
       "C2H4            52.5         68.5\n",
       "CH4            -74.5        -50.5\n",
       "CaCO3        -1206.9      -1128.8\n",
       "CaO           -635.1       -604.0\n",
       "CO2           -393.5       -394.4\n",
       "CO            -110.5       -137.2\n",
       "H2O           -241.8       -228.6"
      ]
     },
     "execution_count": 2,
     "metadata": {},
     "output_type": "execute_result"
    }
   ],
   "source": [
    "import numpy as np\n",
    "import pandas as pd\n",
    "df = pd.read_csv('a3.txt', sep='\\t', index_col=0)\n",
    "df"
   ]
  },
  {
   "cell_type": "markdown",
   "metadata": {},
   "source": [
    "### (a)"
   ]
  },
  {
   "cell_type": "code",
   "execution_count": 3,
   "metadata": {},
   "outputs": [
    {
     "name": "stdout",
     "output_type": "stream",
     "text": [
      "∆H rxn: -92.2 kJ/mol\n",
      "∆G rxn: -33.0 kJ/mol\n"
     ]
    }
   ],
   "source": [
    "species = ['N2', 'H2', 'NH3']\n",
    "coeffs = np.array([-1,-3,2])\n",
    "\n",
    "new_df = df.loc[species]\n",
    "H_form = (new_df['h_formation'] * coeffs).sum()\n",
    "G_form = (new_df['g_formation'] * coeffs).sum()\n",
    "print(f'∆H rxn: {H_form:.1f} kJ/mol')\n",
    "print(f'∆G rxn: {G_form:.1f} kJ/mol')"
   ]
  },
  {
   "cell_type": "markdown",
   "metadata": {},
   "source": [
    "### (b)"
   ]
  },
  {
   "cell_type": "code",
   "execution_count": 4,
   "metadata": {},
   "outputs": [
    {
     "name": "stdout",
     "output_type": "stream",
     "text": [
      "∆H rxn: 82.7 kJ/mol\n",
      "∆G rxn: 42.3 kJ/mol\n"
     ]
    }
   ],
   "source": [
    "species = ['C3H8', 'C2H4', 'CH4']\n",
    "coeffs = np.array([-1, 1, 1])\n",
    "\n",
    "new_df = df.loc[species]\n",
    "H_form = (new_df['h_formation'] * coeffs).sum()\n",
    "G_form = (new_df['g_formation'] * coeffs).sum()\n",
    "print(f'∆H rxn: {H_form:.1f} kJ/mol')\n",
    "print(f'∆G rxn: {G_form:.1f} kJ/mol')"
   ]
  },
  {
   "cell_type": "markdown",
   "metadata": {},
   "source": [
    "### (c)"
   ]
  },
  {
   "cell_type": "code",
   "execution_count": 5,
   "metadata": {},
   "outputs": [
    {
     "name": "stdout",
     "output_type": "stream",
     "text": [
      "∆H rxn: 178.3 kJ/mol\n",
      "∆G rxn: 130.4 kJ/mol\n"
     ]
    }
   ],
   "source": [
    "species = ['CaCO3', 'CaO', 'CO2']\n",
    "coeffs = np.array([-1, 1, 1])\n",
    "\n",
    "new_df = df.loc[species]\n",
    "H_form = (new_df['h_formation'] * coeffs).sum()\n",
    "G_form = (new_df['g_formation'] * coeffs).sum()\n",
    "print(f'∆H rxn: {H_form:.1f} kJ/mol')\n",
    "print(f'∆G rxn: {G_form:.1f} kJ/mol')"
   ]
  },
  {
   "cell_type": "markdown",
   "metadata": {},
   "source": [
    "### (d)"
   ]
  },
  {
   "cell_type": "code",
   "execution_count": 6,
   "metadata": {},
   "outputs": [
    {
     "name": "stdout",
     "output_type": "stream",
     "text": [
      "∆H rxn: -658.6 kJ/mol\n",
      "∆G rxn: -454.3 kJ/mol\n"
     ]
    }
   ],
   "source": [
    "species = ['CO', 'H2', 'CH4', 'CO2', 'H2O']\n",
    "coeffs = np.array([-4, -8, 3, 1, 2])\n",
    "\n",
    "new_df = df.loc[species]\n",
    "H_form = (new_df['h_formation'] * coeffs).sum()\n",
    "G_form = (new_df['g_formation'] * coeffs).sum()\n",
    "print(f'∆H rxn: {H_form:.1f} kJ/mol')\n",
    "print(f'∆G rxn: {G_form:.1f} kJ/mol')"
   ]
  },
  {
   "cell_type": "code",
   "execution_count": 7,
   "metadata": {},
   "outputs": [],
   "source": [
    "# this is filler text."
   ]
  }
 ],
 "metadata": {
  "kernelspec": {
   "display_name": "base",
   "language": "python",
   "name": "python3"
  },
  "language_info": {
   "codemirror_mode": {
    "name": "ipython",
    "version": 3
   },
   "file_extension": ".py",
   "mimetype": "text/x-python",
   "name": "python",
   "nbconvert_exporter": "python",
   "pygments_lexer": "ipython3",
   "version": "3.11.5"
  }
 },
 "nbformat": 4,
 "nbformat_minor": 2
}
