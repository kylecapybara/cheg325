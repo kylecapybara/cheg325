{
 "cells": [
  {
   "cell_type": "markdown",
   "metadata": {},
   "source": [
    "pdf cropped for 1page jupyter/quarto notebooks"
   ]
  },
  {
   "cell_type": "code",
   "execution_count": null,
   "metadata": {},
   "outputs": [
    {
     "name": "stderr",
     "output_type": "stream",
     "text": [
      "2025-02-16 01:10:13.161 python[42727:4236876] +[IMKClient subclass]: chose IMKClient_Modern\n",
      "2025-02-16 01:10:13.890 python[42727:4236876] The class 'NSOpenPanel' overrides the method identifier.  This method is implemented by class 'NSWindow'\n"
     ]
    },
    {
     "name": "stdout",
     "output_type": "stream",
     "text": [
      "Cropped PDF saved to /Users/kylewodehouse/Documents/CHEG325/homework/homework2/cropped/cheg325 hw2q2 coding for tedious math.pdf\n"
     ]
    }
   ],
   "source": [
    "import fitz  # PyMuPDF\n",
    "from tkinter.filedialog import askopenfilenames\n",
    "import os\n",
    "\n",
    "pdf_paths = askopenfilenames(initialdir=os.getcwd())\n",
    "\n",
    "for pdf_path in pdf_paths:\n",
    "    folder = os.path.join(os.path.dirname(pdf_path), \"cropped\")\n",
    "    if not os.path.exists(folder):\n",
    "        os.makedirs(folder)\n",
    "\n",
    "    output_path = \"/\".join(pdf_path.split('/')[:-1]) + \"/cropped/\" + pdf_path.split('/')[-1]\n",
    "    doc = fitz.open(pdf_path)\n",
    "    page = doc[0]  \n",
    "\n",
    "    # Get the original page dimensions\n",
    "    orig_rect = page.rect\n",
    "\n",
    "    blocks = page.get_text(\"blocks\")\n",
    "    # blocks is a list of (x0, y0, x1, y1, text, block_no, ...)\n",
    "    if not blocks:\n",
    "        doc.save(output_path)\n",
    "        doc.close()\n",
    "        exit()\n",
    "\n",
    "    y1 = max(b[3] for b in blocks)\n",
    "\n",
    "    new_rect = fitz.Rect(orig_rect.x0, orig_rect.y0, orig_rect.x1, y1 + 50)\n",
    "    page.set_cropbox(new_rect)\n",
    "\n",
    "    doc.save(output_path)\n",
    "    doc.close()\n",
    "\n",
    "    os.remove(pdf_path)\n",
    "\n",
    "    print(f\"Cropped PDF saved to {output_path}\")"
   ]
  }
 ],
 "metadata": {
  "kernelspec": {
   "display_name": "base",
   "language": "python",
   "name": "python3"
  },
  "language_info": {
   "codemirror_mode": {
    "name": "ipython",
    "version": 3
   },
   "file_extension": ".py",
   "mimetype": "text/x-python",
   "name": "python",
   "nbconvert_exporter": "python",
   "pygments_lexer": "ipython3",
   "version": "3.11.5"
  }
 },
 "nbformat": 4,
 "nbformat_minor": 2
}
