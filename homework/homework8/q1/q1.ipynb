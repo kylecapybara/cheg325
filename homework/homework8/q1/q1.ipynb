{
 "cells": [
  {
   "cell_type": "markdown",
   "id": "e1f34d49",
   "metadata": {},
   "source": [
    "---\n",
    "title: cheg325 homework7 SIS 13.20\n",
    "author: kyle wodehouse\n",
    "date: today\n",
    "format:\n",
    "    html:\n",
    "        self-contained: true\n",
    "---"
   ]
  },
  {
   "cell_type": "markdown",
   "id": "0855b35e",
   "metadata": {},
   "source": [
    "we need to find allll the $\\Delta \\underline H$ and $\\Delta \\underline G$ for the reactions\n",
    "\n",
    "\\begin{align}\n",
    "\\mathrm{CaCO_3 + SiO_2} & \\leftrightharpoons \\mathrm{CaO \\cdot SiO_2 + CO_2} \\\\\n",
    "\\mathrm{3FeO \\cdot SiO_2 + CO_2} & \\leftrightharpoons \\mathrm{3SiO_2 + Fe_3O_4 + CO} \\\\\n",
    "\\mathrm{3FeO \\cdot SiO_2 + \\tfrac{1}{2}O_2} & \\leftrightharpoons \\mathrm{Fe_3O_4 + 3SiO_2}\n",
    "\\end{align}\n",
    "\n",
    "from an earlier homework i have the appendix with all the formation energies as a `csv` file and will import it as a dataframe to make menial math easy"
   ]
  },
  {
   "cell_type": "code",
   "execution_count": 54,
   "id": "9fa31784",
   "metadata": {},
   "outputs": [
    {
     "data": {
      "text/html": [
       "<div>\n",
       "<style scoped>\n",
       "    .dataframe tbody tr th:only-of-type {\n",
       "        vertical-align: middle;\n",
       "    }\n",
       "\n",
       "    .dataframe tbody tr th {\n",
       "        vertical-align: top;\n",
       "    }\n",
       "\n",
       "    .dataframe thead th {\n",
       "        text-align: right;\n",
       "    }\n",
       "</style>\n",
       "<table border=\"1\" class=\"dataframe\">\n",
       "  <thead>\n",
       "    <tr style=\"text-align: right;\">\n",
       "      <th></th>\n",
       "      <th>chemical_name</th>\n",
       "      <th>state</th>\n",
       "      <th>delta_h_form</th>\n",
       "      <th>delta_g_form</th>\n",
       "    </tr>\n",
       "    <tr>\n",
       "      <th>chemical_formula</th>\n",
       "      <th></th>\n",
       "      <th></th>\n",
       "      <th></th>\n",
       "      <th></th>\n",
       "    </tr>\n",
       "  </thead>\n",
       "  <tbody>\n",
       "    <tr>\n",
       "      <th>CH4</th>\n",
       "      <td>Methane</td>\n",
       "      <td>g</td>\n",
       "      <td>-74.5</td>\n",
       "      <td>-50.5</td>\n",
       "    </tr>\n",
       "    <tr>\n",
       "      <th>C2H6</th>\n",
       "      <td>Ethane</td>\n",
       "      <td>g</td>\n",
       "      <td>-83.8</td>\n",
       "      <td>-31.9</td>\n",
       "    </tr>\n",
       "    <tr>\n",
       "      <th>C3H8</th>\n",
       "      <td>Propane</td>\n",
       "      <td>g</td>\n",
       "      <td>-104.7</td>\n",
       "      <td>-24.3</td>\n",
       "    </tr>\n",
       "  </tbody>\n",
       "</table>\n",
       "</div>"
      ],
      "text/plain": [
       "                 chemical_name state delta_h_form delta_g_form\n",
       "chemical_formula                                              \n",
       "CH4                    Methane     g        -74.5        -50.5\n",
       "C2H6                    Ethane     g        -83.8        -31.9\n",
       "C3H8                   Propane     g       -104.7        -24.3"
      ]
     },
     "execution_count": 54,
     "metadata": {},
     "output_type": "execute_result"
    }
   ],
   "source": [
    "import pandas as pd\n",
    "import numpy as np\n",
    "from scipy.constants import R\n",
    "\n",
    "a4 = pd.read_csv('appendix_a4.csv', index_col=1)\n",
    "a4.head(3)"
   ]
  },
  {
   "cell_type": "markdown",
   "id": "f2be7bc4",
   "metadata": {},
   "source": [
    "thankfully sandler says 'go look in the chemical engineering handbook' to find the ones not in his table, so after some digging i was able to get the  numbers needed from the 8th edition of the chemical engineering handbook. I also took the $\\mathrm{SiO}_2$ heat and free energy of formation from the handbook as it was giving me wildly unphysical results in calculations.\n",
    "\n",
    "values i found from handbook and also the SiO2 replacement value (note that 1 kcal = 4.184 kJ)\n",
    "\n",
    "\n",
    "| Compound | ΔH<sub>f</sub> (kcal/mol) | ΔG<sub>f</sub> (kcal/mol) | ΔH<sub>f</sub> (kJ/mol) | ΔG<sub>f</sub> (kJ/mol) |\n",
    "|----------|----------------------|----------------------|---------------------|---------------------|\n",
    "| Fe₃O₄ | -266.9 | -242.3 | -1116.7096 | -1013.7832 |\n",
    "| CaO·SiO₂ | -377.9 | -357.5 | -1581.1336 | -1495.78 |\n",
    "| CaCO₃ | -289.5 | -270.8 | -1211.268 | -1133.0272 |\n",
    "| SiO₂ | -203.35 | -190.4 | -850.8164 | -796.6336 |\n"
   ]
  },
  {
   "cell_type": "markdown",
   "id": "3f85f350",
   "metadata": {},
   "source": [
    "now we (i) can easily calculate all the $K_a$ values at standard state\n",
    "$$\n",
    "K_a^\\circ = \\exp \\left(  \\frac{-\\Delta_\\mathrm{rxn} G^\\circ}{RT}  \\right)\n",
    "$$"
   ]
  },
  {
   "cell_type": "code",
   "execution_count": 55,
   "id": "c6e7435d",
   "metadata": {},
   "outputs": [
    {
     "name": "stdout",
     "output_type": "stream",
     "text": [
      "G1: 35253.6 J/mol\n",
      "G2: 33516.0 J/mol\n",
      "G3: -223684.0 J/mol\n",
      "Ko: [6.66555768e-07 1.34354074e-06 1.54078254e+39]\n"
     ]
    }
   ],
   "source": [
    "reaction1_components = ['CaCO3', 'SiO2', 'CaO*SiO2', 'CO2']\n",
    "r1_coeffs = np.array([-1, -1, 1, 1])\n",
    "temp = a4.loc[reaction1_components]\n",
    "G1 = (temp['delta_g_form'].astype(float) * r1_coeffs).sum() * 1000\n",
    "\n",
    "reaction2_components = ['FeO*SiO2', 'CO2', 'SiO2', 'Fe3O4', 'CO']\n",
    "r2_coeffs = np.array([-3, -1, 3, 1, 1])\n",
    "temp = a4.loc[reaction2_components]\n",
    "G2 = (temp['delta_g_form'].astype(float) * r2_coeffs).sum() * 1000\n",
    "\n",
    "reaction3_components = ['FeO*SiO2', 'O2', 'Fe3O4', 'SiO2']\n",
    "r3_coeffs = np.array([-3.0, -0.5, 1.0, 3.0])\n",
    "temp = a4.loc[reaction3_components]\n",
    "G3 = (temp['delta_g_form'].astype(float) * r3_coeffs).sum() * 1000\n",
    "\n",
    "print(f'G1: {G1:.1f} J/mol\\nG2: {G2:.1f} J/mol\\nG3: {G3:.1f} J/mol')\n",
    "\n",
    "Gs = np.array([G1, G2, G3])\n",
    "K = np.exp(-Gs /(R*298.15))\n",
    "print(f'Ko: {K}')"
   ]
  },
  {
   "cell_type": "markdown",
   "id": "882cb039",
   "metadata": {},
   "source": [
    "very quickly we can guess that the first two reactions should be farely reactant favored and the 3rd reaction should be heavily product favored. \n",
    "\n",
    "this approach is very similar to (13.1-22b) (and for some reason there are two equations tagged 13.1-22b). here's the outline:\n",
    "\n",
    "- using free energies of formations and reaction stoichiometry to get $\\Delta_\\mathrm{rxn} G$\n",
    "- using $\\Delta_\\mathrm{rxn} G$ to find $K$ at 298.15 K\n",
    "- using enthalpies of formations, reaction stoichiometry, and $C_P$ polynomials to correct K for the difference in temperature between 298.15 and the ~750K \n",
    "\n",
    "now let's get down to the mathy business. we need to get $\\Delta_\\mathrm{rxn}H^\\circ (T)$\n",
    "\n",
    "$$\n",
    "\\Delta_\\mathrm{rxn}H (T) = \\Delta_\\mathrm{rxn}H^\\circ (298.15) + \\int_{293.15}^T \\Delta_\\mathrm{rxn} C_p \\ dT\n",
    "$$\n",
    "\n",
    "if the $C_p$ is in the form of\n",
    "\n",
    "$$\n",
    "C_p = a + bT + e/T^2 \n",
    "$$\n",
    "\n",
    "then \n",
    "\n",
    "$$\n",
    "\\int_{T_1}^{T_2} C_p = a [T_2 - T_1] + \\frac{1}{2} b [T_2 - T_1]^2 + e \\left[\\frac{1}{T_1} - \\frac{1}{T_2}\\right]\n",
    "$$\n",
    "\n",
    "and then\n",
    "\n",
    "$$\n",
    "\\ln \\frac{K_a (747)}{K_a (298.15)} = \\int_{298.15}^{747} \\frac{\\Delta_\\mathrm{rxn}H (T)}{RT^2} \\ dT\n",
    "$$\n",
    "\n"
   ]
  },
  {
   "cell_type": "code",
   "execution_count": null,
   "id": "6bd547e5",
   "metadata": {},
   "outputs": [
    {
     "name": "stdout",
     "output_type": "stream",
     "text": [
      "K1: 340.891\n",
      "K2: 0.254\n",
      "K3: 4.141e+14\n"
     ]
    }
   ],
   "source": [
    "heat_capacity = pd.read_csv('heat_capacity.csv', index_col=0).fillna(0) # table from question + appendix\n",
    "\n",
    "def calculate_K_at_T(T, species, coeffs):\n",
    "    cp_data = np.array(heat_capacity.loc[species])\n",
    "    coeffs = np.array(coeffs)\n",
    "    \n",
    "    delta_a, delta_b, delta_c, delta_d, delta_e = (cp_data * coeffs[:, np.newaxis]).sum(axis=0)\n",
    "    \n",
    "    thermo_data = a4.loc[species]\n",
    "    delta_H = (thermo_data['delta_h_form'].astype(float) * coeffs).sum() * 1000  # J/mol\n",
    "    delta_G = (thermo_data['delta_g_form'].astype(float) * coeffs).sum() * 1000  # J/mol\n",
    "    T1 = 298.15 \n",
    "    K_298 = np.exp(-delta_G / (R * T1))\n",
    "        \n",
    "    term1 = (delta_a/R) * np.log(T/T1)\n",
    "    term2 = (delta_b/(2*R)) * (T - T1)\n",
    "    term3 = (delta_c/(6*R)) * (T**2 - T1**2)\n",
    "    term4 = (delta_d/(12*R)) * (T**3 - T1**3)\n",
    "    term5 = (delta_e/(2*R)) * (1/T**2 - 1/T1**2)\n",
    "    \n",
    "    bracket_term = (-delta_H + delta_a*T1 + (delta_b/2)*T1**2 + \n",
    "                   (delta_c/3)*T1**3 + (delta_d/4)*T1**4 - delta_e/T1)\n",
    "    \n",
    "    term6 = (1/R) * bracket_term * (1/T - 1/T1)\n",
    "    \n",
    "    ln_ratio = term1 + term2 + term3 + term4 + term5 + term6\n",
    "    \n",
    "    K_T = K_298 * np.exp(ln_ratio)\n",
    "    \n",
    "    return K_T\n",
    "\n",
    "K1, K2, K3 = [calculate_K_at_T(747, components, coeffs) for components, coeffs \n",
    "                                                        in zip([reaction1_components, \n",
    "                                                                reaction2_components, \n",
    "                                                                reaction3_components], \n",
    "                                                                [r1_coeffs, r2_coeffs, r3_coeffs])]\n",
    "\n",
    "print(f'K1: {K1:.3f}')\n",
    "print(f'K2: {K2:.3f}')\n",
    "print(f'K3: {K3:.3e}')"
   ]
  },
  {
   "cell_type": "markdown",
   "id": "8d9fbb36",
   "metadata": {},
   "source": [
    "now we/i can use the K values and compare them to the atomsphere\n",
    "\n",
    "| Species | Mole Percent |\n",
    "|---------|--------------|\n",
    "| CO₂     | 99.9 –       |\n",
    "| H₂O     | 0.01         |\n",
    "| CO      | 0.01         |\n",
    "| HCl     | $1 \\times 10^{-1}$ |\n",
    "| HF      | $1 \\times 10^{-6}$ |\n",
    "| O₂      | trace        |\n",
    "\n",
    "\\begin{align}\n",
    "\\mathrm{CaCO_3 + SiO_2} & \\leftrightharpoons \\mathrm{CaO \\cdot SiO_2 + CO_2} \\\\\n",
    "\\mathrm{3FeO \\cdot SiO_2 + CO_2} & \\leftrightharpoons \\mathrm{3SiO_2 + Fe_3O_4 + CO} \\\\\n",
    "\\mathrm{3FeO \\cdot SiO_2 + \\tfrac{1}{2}O_2} & \\leftrightharpoons \\mathrm{Fe_3O_4 + 3SiO_2}\n",
    "\\end{align}"
   ]
  },
  {
   "cell_type": "markdown",
   "id": "4cdeec70",
   "metadata": {},
   "source": [
    "right off the bat it makes sense that there's basically no oxygen in the atmosphere since the only reaction including oxygen gas is so heavily product favored.\n",
    "\n",
    "now for the ratio of $\\mathrm{CO_2}$ we can look at the second constant. \n",
    "\n",
    "$$\n",
    "K_{\\alpha, 2} = \\frac{\\alpha_{CO}}{\\alpha_{CO2}} = 0.254\n",
    "$$\n",
    "\n",
    "which doesn't quite line up with the measurements, but at least the measurements show that there should be significantly more $\\mathrm{CO_2}$ than $\\mathrm{CO}$. if we look at the first reaction (say the pressure is 100 bar or so)\n",
    "\n",
    "$$\n",
    "K_{\\alpha, 1} = \\alpha_{\\mathrm{CO}_2} = 341 = y_{\\mathrm{CO}_2} \\left( \\frac{P}{1 \\ \\text{bar}} \\right) = y_{\\mathrm{CO}_2} \\left( \\frac{100 \\ \\text{bar}}{1 \\ \\text{bar}} \\right)\n",
    "$$\n",
    "\n",
    "$$\n",
    "y_{\\mathrm{CO}_2} = 3.41\n",
    "$$\n",
    "\n",
    "obviously this is inconsistent with reality (the $\\mathrm{CO_2}$ is likely not an ideal gas at 100 bar), but it is generally consistent with the idea that the atmosphere should be mostly $\\mathrm{CO_2}$"
   ]
  },
  {
   "cell_type": "code",
   "execution_count": 57,
   "id": "ba43c787",
   "metadata": {},
   "outputs": [],
   "source": [
    "# filler"
   ]
  }
 ],
 "metadata": {
  "kernelspec": {
   "display_name": "base",
   "language": "python",
   "name": "python3"
  },
  "language_info": {
   "codemirror_mode": {
    "name": "ipython",
    "version": 3
   },
   "file_extension": ".py",
   "mimetype": "text/x-python",
   "name": "python",
   "nbconvert_exporter": "python",
   "pygments_lexer": "ipython3",
   "version": "3.11.5"
  }
 },
 "nbformat": 4,
 "nbformat_minor": 5
}
