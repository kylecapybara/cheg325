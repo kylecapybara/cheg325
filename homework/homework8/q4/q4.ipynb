{
 "cells": [
  {
   "cell_type": "markdown",
   "id": "059ba6e7",
   "metadata": {},
   "source": [
    "---\n",
    "title: cheg325 homework7 SIS 12.5-2\n",
    "author: kyle wodehouse\n",
    "date: today\n",
    "format:\n",
    "    html:\n",
    "        self-contained: true\n",
    "---"
   ]
  },
  {
   "cell_type": "markdown",
   "id": "62c55d11",
   "metadata": {},
   "source": [
    "starting with the definition of $K_{OW}$ for solute partitioning\n",
    "\n",
    "$$\n",
    "K_{\\text{OW}, i} = \\frac{C_i^O}{C_i^W}\n",
    "$$\n",
    "\n",
    "now if we rearrange very very very slightly\n",
    "\n",
    "$$\n",
    "C_i^O = K_{\\text{OW}, i} C_i^W\n",
    "$$\n",
    "\n",
    "now we can relate the concentration in the octanol (as our proxy for fatty tissue) to the concentration of solute in the whole fish if we define $w_\\text{B}$ to be the proportion of the fish that is fatty tissue. right below (12.5-9) homeboy sandler says $w_\\text{B} = 0.05$ or so for a fish. let phase $F$ be the fish phase\n",
    "\n",
    "$$\n",
    "C_i^F = w_\\text{B}  C_i^O = w_\\text{B} K_{\\text{OW}, i} C_i^W\n",
    "$$\n",
    "\n",
    "another way sandler describes this is by making a $K_{\\text{B,W}}$ where phase B is biotia or some other nice sounding word. this is functionally the same\n",
    "\n",
    "now we can do all this lovely math\n"
   ]
  },
  {
   "cell_type": "code",
   "execution_count": 31,
   "id": "f99c3c67",
   "metadata": {},
   "outputs": [
    {
     "data": {
      "text/html": [
       "<div>\n",
       "<style scoped>\n",
       "    .dataframe tbody tr th:only-of-type {\n",
       "        vertical-align: middle;\n",
       "    }\n",
       "\n",
       "    .dataframe tbody tr th {\n",
       "        vertical-align: top;\n",
       "    }\n",
       "\n",
       "    .dataframe thead th {\n",
       "        text-align: right;\n",
       "    }\n",
       "</style>\n",
       "<table border=\"1\" class=\"dataframe\">\n",
       "  <thead>\n",
       "    <tr style=\"text-align: right;\">\n",
       "      <th></th>\n",
       "      <th>name</th>\n",
       "      <th>solubility</th>\n",
       "      <th>log Kow</th>\n",
       "    </tr>\n",
       "  </thead>\n",
       "  <tbody>\n",
       "    <tr>\n",
       "      <th>0</th>\n",
       "      <td>Aldrin</td>\n",
       "      <td>27</td>\n",
       "      <td>5.52</td>\n",
       "    </tr>\n",
       "    <tr>\n",
       "      <th>1</th>\n",
       "      <td>Dieldrin</td>\n",
       "      <td>140</td>\n",
       "      <td>4.32</td>\n",
       "    </tr>\n",
       "    <tr>\n",
       "      <th>2</th>\n",
       "      <td>Lindane</td>\n",
       "      <td>7000</td>\n",
       "      <td>3.61</td>\n",
       "    </tr>\n",
       "    <tr>\n",
       "      <th>3</th>\n",
       "      <td>Diazinon</td>\n",
       "      <td>40000</td>\n",
       "      <td>3.31</td>\n",
       "    </tr>\n",
       "  </tbody>\n",
       "</table>\n",
       "</div>"
      ],
      "text/plain": [
       "       name  solubility  log Kow\n",
       "0    Aldrin          27     5.52\n",
       "1  Dieldrin         140     4.32\n",
       "2   Lindane        7000     3.61\n",
       "3  Diazinon       40000     3.31"
      ]
     },
     "execution_count": 31,
     "metadata": {},
     "output_type": "execute_result"
    }
   ],
   "source": [
    "import pandas as pd\n",
    "import numpy as np\n",
    "from IPython.display import display, HTML\n",
    "\n",
    "\n",
    "data = {\n",
    "    'name': ['Aldrin', 'Dieldrin', 'Lindane', 'Diazinon'],\n",
    "    'solubility': [27, 140, 7000, 40000],\n",
    "    'log Kow': [5.52, 4.32, 3.61, 3.31]  \n",
    "}\n",
    "\n",
    "df = pd.DataFrame(data)\n",
    "df"
   ]
  },
  {
   "cell_type": "code",
   "execution_count": 29,
   "id": "26c2e167",
   "metadata": {},
   "outputs": [
    {
     "data": {
      "text/html": [
       "<table border=\"1\" class=\"dataframe\">\n",
       "  <thead>\n",
       "    <tr style=\"text-align: right;\">\n",
       "      <th>name</th>\n",
       "      <th>fish concentration (g/L)</th>\n",
       "    </tr>\n",
       "  </thead>\n",
       "  <tbody>\n",
       "    <tr>\n",
       "      <td>Aldrin</td>\n",
       "      <td>0.447</td>\n",
       "    </tr>\n",
       "    <tr>\n",
       "      <td>Dieldrin</td>\n",
       "      <td>0.146</td>\n",
       "    </tr>\n",
       "    <tr>\n",
       "      <td>Lindane</td>\n",
       "      <td>1.426</td>\n",
       "    </tr>\n",
       "    <tr>\n",
       "      <td>Diazinon</td>\n",
       "      <td>4.083</td>\n",
       "    </tr>\n",
       "  </tbody>\n",
       "</table>"
      ],
      "text/plain": [
       "<IPython.core.display.HTML object>"
      ]
     },
     "metadata": {},
     "output_type": "display_data"
    }
   ],
   "source": [
    "df['Kow'] = np.power(10.0, df['log Kow'], dtype=float)\n",
    "df['fish concentration (g/L)'] = np.round(0.05 * df['solubility'] * df['Kow'] * 1e-6, 3)\n",
    "display(HTML(df[['name', 'fish concentration (g/L)']].to_html(index=False)))"
   ]
  },
  {
   "cell_type": "code",
   "execution_count": 30,
   "id": "f3fa9bf1",
   "metadata": {},
   "outputs": [],
   "source": [
    "# filler"
   ]
  }
 ],
 "metadata": {
  "kernelspec": {
   "display_name": "base",
   "language": "python",
   "name": "python3"
  },
  "language_info": {
   "codemirror_mode": {
    "name": "ipython",
    "version": 3
   },
   "file_extension": ".py",
   "mimetype": "text/x-python",
   "name": "python",
   "nbconvert_exporter": "python",
   "pygments_lexer": "ipython3",
   "version": "3.11.5"
  }
 },
 "nbformat": 4,
 "nbformat_minor": 5
}
