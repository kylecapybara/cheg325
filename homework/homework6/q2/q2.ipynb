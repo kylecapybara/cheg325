{
 "cells": [
  {
   "cell_type": "markdown",
   "metadata": {},
   "source": [
    "---\n",
    "title: cheg325 homework 6 SIS 11.2-39\n",
    "author: k. wodehouse\n",
    "date: today\n",
    "format:\n",
    "    html:\n",
    "        self-contained: true\n",
    "---"
   ]
  },
  {
   "cell_type": "markdown",
   "metadata": {},
   "source": [
    "# a"
   ]
  },
  {
   "cell_type": "markdown",
   "metadata": {},
   "source": [
    "if any of the mole fractions are zero (if we have a binary mixture), we will be confined to sides of the triangle. now the question becomes on which sides of the triangle will there be a region with two phases. \n",
    "\n",
    "we very quickly see only the bottom side (for when there is no HMF) will have a possible 2 phases, and the others will always be miscible. \n",
    "\n",
    "\n",
    "<img src=\"q2_a.png\" alt=\"Ternary Phase Diagram\" width=\"600\"/>\n",
    "\n",
    "miscible\n",
    "\n",
    "\n",
    "- HMF + Water\n",
    "- HMF + n-butanol\n",
    "\n",
    "will form 2 phases at some concentration\n",
    "\n",
    "\n",
    "- water + n-butanol"
   ]
  },
  {
   "cell_type": "markdown",
   "metadata": {},
   "source": [
    "# b"
   ]
  },
  {
   "cell_type": "markdown",
   "metadata": {},
   "source": [
    "the plait point is where the tie lines end up intersecting the 2 phase region edge at the same point. this can be estimated by estimating some more tie lines going up.\n",
    "\n",
    "<img src=\"q2_b1.png\" alt=\"Ternary Phase Diagram\" height=\"350\"/>\n",
    "<img src=\"q2_b2.png\" alt=\"Ternary Phase Diagram\" height=\"350\"/>\n",
    "\n",
    "i did this by measuring pixels to try and get some half accurate answers, so\n"
   ]
  },
  {
   "cell_type": "code",
   "execution_count": null,
   "metadata": {},
   "outputs": [
    {
     "name": "stdout",
     "output_type": "stream",
     "text": [
      "x_water: 0.471\n",
      "x_hmf: 0.363\n",
      "x_butanol: 0.179\n",
      "\n",
      "sum: 1.013\n"
     ]
    }
   ],
   "source": [
    "import numpy as np\n",
    "\n",
    "x_butanol = 129/720\n",
    "x_hmf = np.hypot(129,227) / np.hypot(359, 623)\n",
    "x_water =  np.hypot(361 - 192,623 - 329) / np.hypot(361, 623)\n",
    "\n",
    "print(f'x_water: {x_water:.3f}')\n",
    "print(f'x_hmf: {x_hmf:.3f}')\n",
    "print(f'x_butanol: {x_butanol:.3f}\\n')\n",
    "print(f'sum: {x_water + x_butanol + x_hmf:.3f}')\n",
    "\n"
   ]
  },
  {
   "cell_type": "markdown",
   "metadata": {},
   "source": [
    "comparing these numbers from measuring pixels (because i think this is the most reasonable way to try and get decent numbers from a graph on a computer) to my eyes they all make sense from where the coordinates look to be on the graph."
   ]
  },
  {
   "cell_type": "markdown",
   "metadata": {},
   "source": [
    "# c\n",
    "\n",
    "luckily the axes are in wt. fractions already, so we can easily calculate all the weight fractions..."
   ]
  },
  {
   "cell_type": "code",
   "execution_count": 1,
   "metadata": {},
   "outputs": [
    {
     "name": "stdout",
     "output_type": "stream",
     "text": [
      "x_water = x_butanol: 0.417\n",
      "x_hmf: 0.167\n"
     ]
    }
   ],
   "source": [
    "x_water = 5/12\n",
    "x_butanol = 5/12\n",
    "x_hmf = 2/12\n",
    "print(f'x_water = x_butanol: {x_water:.3f}')\n",
    "print(f'x_hmf: {x_hmf:.3f}')"
   ]
  },
  {
   "cell_type": "markdown",
   "metadata": {},
   "source": [
    "now we can find these this point on our graph\n",
    "\n",
    "<img src=\"q2_c1.png\" alt=\"Ternary Phase Diagram\" width=\"600\"/>\n",
    "\n",
    "so we see that **there will be 2 phases**, and now we can figure out their compositions by following the tie line that this composition nicely falls on.\n",
    "\n",
    "<img src=\"q2_c2.png\" alt=\"Ternary Phase Diagram\" height=\"350\"/>\n",
    "<img src=\"q2_c3.png\" alt=\"Ternary Phase Diagram\" height=\"350\"/>\n",
    "\n",
    "\n",
    "and again i did this by measuring pixels\n"
   ]
  },
  {
   "cell_type": "code",
   "execution_count": 2,
   "metadata": {},
   "outputs": [
    {
     "ename": "NameError",
     "evalue": "name 'np' is not defined",
     "output_type": "error",
     "traceback": [
      "\u001b[0;31m---------------------------------------------------------------------------\u001b[0m",
      "\u001b[0;31mNameError\u001b[0m                                 Traceback (most recent call last)",
      "Cell \u001b[0;32mIn[2], line 2\u001b[0m\n\u001b[1;32m      1\u001b[0m x_butanol_r \u001b[38;5;241m=\u001b[39m \u001b[38;5;241m331\u001b[39m\u001b[38;5;241m/\u001b[39m\u001b[38;5;241m564\u001b[39m\n\u001b[0;32m----> 2\u001b[0m x_water_r \u001b[38;5;241m=\u001b[39m  np\u001b[38;5;241m.\u001b[39mhypot(\u001b[38;5;241m67\u001b[39m,\u001b[38;5;241m114\u001b[39m) \u001b[38;5;241m/\u001b[39m np\u001b[38;5;241m.\u001b[39mhypot(\u001b[38;5;241m282\u001b[39m,\u001b[38;5;241m488\u001b[39m)\n\u001b[1;32m      3\u001b[0m x_hmf_r \u001b[38;5;241m=\u001b[39m np\u001b[38;5;241m.\u001b[39mhypot(\u001b[38;5;241m53\u001b[39m,\u001b[38;5;241m91\u001b[39m) \u001b[38;5;241m/\u001b[39m np\u001b[38;5;241m.\u001b[39mhypot(\u001b[38;5;241m281\u001b[39m,\u001b[38;5;241m488\u001b[39m)\n\u001b[1;32m      5\u001b[0m \u001b[38;5;28mprint\u001b[39m(\u001b[38;5;124mf\u001b[39m\u001b[38;5;124m'\u001b[39m\u001b[38;5;124m----- butanol rich phase -----\u001b[39m\u001b[38;5;124m'\u001b[39m)\n",
      "\u001b[0;31mNameError\u001b[0m: name 'np' is not defined"
     ]
    }
   ],
   "source": [
    "x_butanol_r = 331/564\n",
    "x_water_r =  np.hypot(67,114) / np.hypot(282,488)\n",
    "x_hmf_r = np.hypot(53,91) / np.hypot(281,488)\n",
    "\n",
    "print(f'----- butanol rich phase -----')\n",
    "print(f'x_water: {x_water_r:.3f}')\n",
    "print(f'x_hmf: {x_hmf_r:.3f}')\n",
    "print(f'x_butanol: {x_butanol_r:.3f}')\n",
    "print(f'sum: {x_water_r + x_butanol_r + x_hmf_r:.3f}\\n')\n",
    "\n",
    "x_butanol_l = 44/860\n",
    "x_hmf_l = np.hypot(42,74) / np.hypot(349,605)\n",
    "x_water_l =  np.hypot(292,503) / np.hypot(350,606)\n",
    "\n",
    "print(f'----- water rich phase -----')\n",
    "print(f'x_water: {x_water_l:.3f}')\n",
    "print(f'x_hmf: {x_hmf_l:.3f}')\n",
    "print(f'x_butanol: {x_butanol_l:.3f}')\n",
    "print(f'sum: {x_water_l + x_butanol_l + x_hmf_l:.3f}\\n')"
   ]
  },
  {
   "cell_type": "markdown",
   "metadata": {},
   "source": [
    "to answer how many kg are in each phase, we need to use a mass balance. we know that if we put 5kg of water into our mixture, there will be 5kg split across both phases. let $m_w$ be the mass of the water rich phase and $m_b$ be the mass of the $n$-butanol rich phase. then, let $x_w^b$ be the\n",
    "\n",
    "$$\n",
    "m_w + m_b = 12 \\tag{first equation}\n",
    "$$\n",
    "\n",
    "$$\n",
    "x_w^w m_w + x_w^b m_b = 5\n",
    "$$\n",
    "\n",
    "now we have 2 equations and 2 unknows! this is easily done by substituting either $m_w$ or $m_b$ using the (first equation)\n",
    "\n",
    "$$\n",
    "x_w^w m_w + x_w^b (12 - m_w) = 5\n",
    "$$\n",
    "\n",
    "$$\n",
    "x_w^w m_w + 12 x_w^b  - x_w^b m_w = 5\n",
    "$$\n",
    "\n",
    "$$\n",
    "m_w (x_w^w - x_w^b)  + 12 x_w^b = 5\n",
    "$$\n",
    "\n",
    "$$\n",
    "m_w  = \\frac{5 - 12 x_w^b}{x_w^w - x_w^b}\n",
    "$$\n",
    "\n",
    "and then of course if we know $m_w$ we can use (first equation). calculating, (also noting that the \"left\" is the water rich and \"right\" is the butanol rich)"
   ]
  },
  {
   "cell_type": "code",
   "execution_count": null,
   "metadata": {},
   "outputs": [
    {
     "name": "stdout",
     "output_type": "stream",
     "text": [
      "mass of water rich: 3.66 kg\n",
      "mass of n-butanol rich: 8.34 kg\n"
     ]
    }
   ],
   "source": [
    "m_w = (5 - 12 * x_water_r)/(x_water_l - x_water_r)\n",
    "m_b = 12 - m_w\n",
    "\n",
    "print(f'mass of water rich: {m_w:.2f} kg')\n",
    "print(f'mass of n-butanol rich: {m_b:.2f} kg')"
   ]
  },
  {
   "cell_type": "markdown",
   "metadata": {},
   "source": [
    "another way to do this would be to let $X$ be the proportion of the mixture in the water rich phase. then,\n",
    "\n",
    "$$\n",
    "x_w^w X + x_w^b (1-X) = x_w\n",
    "$$\n",
    "\n",
    "which using similar algebra as before gives\n",
    "\n",
    "$$\n",
    "X = \\frac{x_w - x_w^b}{x_w^w - x_w^b} \\tag{lever ruleee}\n",
    "$$\n",
    "\n",
    "now plugging in"
   ]
  },
  {
   "cell_type": "code",
   "execution_count": null,
   "metadata": {},
   "outputs": [
    {
     "name": "stdout",
     "output_type": "stream",
     "text": [
      "mass of water rich: 3.66\n",
      "mass of water rich: 8.34\n"
     ]
    }
   ],
   "source": [
    "X = (x_water - x_water_r)/(x_water_l - x_water_r)\n",
    "print(f'mass of water rich: {X*12:.2f}')\n",
    "print(f'mass of water rich: {12 - X*12:.2f}')"
   ]
  },
  {
   "cell_type": "markdown",
   "metadata": {},
   "source": [
    "and thankfully these agree. "
   ]
  },
  {
   "cell_type": "code",
   "execution_count": null,
   "metadata": {},
   "outputs": [],
   "source": [
    "# filler"
   ]
  }
 ],
 "metadata": {
  "kernelspec": {
   "display_name": "base",
   "language": "python",
   "name": "python3"
  },
  "language_info": {
   "codemirror_mode": {
    "name": "ipython",
    "version": 3
   },
   "file_extension": ".py",
   "mimetype": "text/x-python",
   "name": "python",
   "nbconvert_exporter": "python",
   "pygments_lexer": "ipython3",
   "version": "3.11.8"
  }
 },
 "nbformat": 4,
 "nbformat_minor": 2
}
