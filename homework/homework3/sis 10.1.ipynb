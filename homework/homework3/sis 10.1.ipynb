{
 "cells": [
  {
   "cell_type": "markdown",
   "metadata": {},
   "source": [
    "---\n",
    "title: cheg325 SIS 10.1-1\n",
    "author: k.wodehouse\n",
    "format:\n",
    "    html:\n",
    "        self-contained: true\n",
    "---"
   ]
  },
  {
   "cell_type": "code",
   "execution_count": 156,
   "metadata": {},
   "outputs": [
    {
     "data": {
      "text/html": [
       "<div>\n",
       "<style scoped>\n",
       "    .dataframe tbody tr th:only-of-type {\n",
       "        vertical-align: middle;\n",
       "    }\n",
       "\n",
       "    .dataframe tbody tr th {\n",
       "        vertical-align: top;\n",
       "    }\n",
       "\n",
       "    .dataframe thead th {\n",
       "        text-align: right;\n",
       "    }\n",
       "</style>\n",
       "<table border=\"1\" class=\"dataframe\">\n",
       "  <thead>\n",
       "    <tr style=\"text-align: right;\">\n",
       "      <th></th>\n",
       "      <th>x</th>\n",
       "      <th>A</th>\n",
       "      <th>B</th>\n",
       "    </tr>\n",
       "    <tr>\n",
       "      <th>Component</th>\n",
       "      <th></th>\n",
       "      <th></th>\n",
       "      <th></th>\n",
       "    </tr>\n",
       "  </thead>\n",
       "  <tbody>\n",
       "    <tr>\n",
       "      <th>Ethane</th>\n",
       "      <td>0.05</td>\n",
       "      <td>817.08</td>\n",
       "      <td>4.402229</td>\n",
       "    </tr>\n",
       "    <tr>\n",
       "      <th>Propane</th>\n",
       "      <td>0.10</td>\n",
       "      <td>1051.38</td>\n",
       "      <td>4.517190</td>\n",
       "    </tr>\n",
       "    <tr>\n",
       "      <th>n-Butane</th>\n",
       "      <td>0.40</td>\n",
       "      <td>1267.56</td>\n",
       "      <td>4.617679</td>\n",
       "    </tr>\n",
       "    <tr>\n",
       "      <th>2-Methylpropane</th>\n",
       "      <td>0.45</td>\n",
       "      <td>1183.44</td>\n",
       "      <td>4.474013</td>\n",
       "    </tr>\n",
       "  </tbody>\n",
       "</table>\n",
       "</div>"
      ],
      "text/plain": [
       "                    x        A         B\n",
       "Component                               \n",
       "Ethane           0.05   817.08  4.402229\n",
       "Propane          0.10  1051.38  4.517190\n",
       "n-Butane         0.40  1267.56  4.617679\n",
       "2-Methylpropane  0.45  1183.44  4.474013"
      ]
     },
     "execution_count": 156,
     "metadata": {},
     "output_type": "execute_result"
    }
   ],
   "source": [
    "import numpy as np\n",
    "import pandas as pd\n",
    "from scipy.optimize import fsolve\n",
    "\n",
    "df = pd.read_csv('101 data.txt', sep=',', index_col=0)\n",
    "df['x'] /= 100\n",
    "df"
   ]
  },
  {
   "cell_type": "markdown",
   "metadata": {},
   "source": [
    "where ${A,B}$ are parameters for this equation\n",
    "$$\n",
    "\\log_{10}(P^{vap}) = -\\frac{A}{T} + B\n",
    "$$"
   ]
  },
  {
   "cell_type": "markdown",
   "metadata": {},
   "source": [
    "# (a)\n",
    "\n",
    "for finding our bubble point at 5 bar we know $P_{total}$ and ${x_i}$, so this is our \"bubble T\". we solve this iteratively by choosing temperatures and then calculating the total pressure and seeing if it matches our given $P_{total}$ of 5 bar. "
   ]
  },
  {
   "cell_type": "code",
   "execution_count": 157,
   "metadata": {},
   "outputs": [
    {
     "name": "stdout",
     "output_type": "stream",
     "text": [
      "dew temp: 293.66 ºK\n"
     ]
    }
   ],
   "source": [
    "components = list(df.index)\n",
    "Ptotal = 5.0\n",
    "\n",
    "def P_calculated(T):\n",
    "    P_i = 0\n",
    "    for component in components:\n",
    "        A, B, x = df.loc[component]['A'], df.loc[component]['B'], df.loc[component]['x']\n",
    "        P_i += (10**(B - A/T)) * x\n",
    "    \n",
    "    return abs(P_i - Ptotal)\n",
    "\n",
    "dew_temp = fsolve(P_calculated, 500)[0]\n",
    "print(f'dew temp: {dew_temp:.2f} ºK')"
   ]
  },
  {
   "cell_type": "markdown",
   "metadata": {},
   "source": [
    "# (b)\n",
    "\n",
    "for the dew point we can just start with an initial guess thats super low and let the fsolve work its magic."
   ]
  },
  {
   "cell_type": "code",
   "execution_count": 158,
   "metadata": {},
   "outputs": [
    {
     "name": "stdout",
     "output_type": "stream",
     "text": [
      "dew temp: 314.23 ºK\n"
     ]
    }
   ],
   "source": [
    "components = list(df.index)\n",
    "Ptotal = 5.0\n",
    "\n",
    "def P_calculated(T):\n",
    "    P1 = 0\n",
    "    for component in components:\n",
    "        A, B, y = df.loc[component]['A'], df.loc[component]['B'], df.loc[component]['x']\n",
    "        pvap = (10**(B - A/T))\n",
    "        P1 += y / pvap\n",
    "    \n",
    "    return abs((1/P1) - Ptotal)\n",
    "\n",
    "dew_temp = fsolve(P_calculated, 500)[0]\n",
    "print(f'dew temp: {dew_temp:.2f} ºK')"
   ]
  },
  {
   "cell_type": "markdown",
   "metadata": {},
   "source": [
    "# (c)\n",
    "\n",
    "first, we calculate $V$ from knowing that the sum of $\\{y_i\\}$ must be one. \n",
    "\n",
    "then, we use that $V$ to calculate the vapor and liquid mole fractions."
   ]
  },
  {
   "cell_type": "code",
   "execution_count": 159,
   "metadata": {},
   "outputs": [
    {
     "name": "stdout",
     "output_type": "stream",
     "text": [
      "V: 0.1334\n",
      "\n",
      "----- vapor mole fractions -----\n",
      "Ethane: 0.2289\n",
      "Propane: 0.1921\n",
      "n-Butane: 0.2326\n",
      "2-Methylpropane: 0.3464\n",
      "\n",
      "----- liquid mole fractions -----\n",
      "Ethane: 0.0225\n",
      "Propane: 0.0858\n",
      "n-Butane: 0.4258\n",
      "2-Methylpropane: 0.4659\n"
     ]
    }
   ],
   "source": [
    "components = list(df.index)\n",
    "Ptotal = 5.0\n",
    "T = 273.15 + 30.0\n",
    "\n",
    "def flash_calculation(V):\n",
    "    sum_thingy = 0\n",
    "    for component in components:\n",
    "        A, B, z_iF = df.loc[component]['A'], df.loc[component]['B'], df.loc[component]['x']\n",
    "        pvap = (10**(B - A/T))\n",
    "        ki = pvap / Ptotal\n",
    "        sum_thingy += (z_iF * ki)/(1 + V*(ki - 1))\n",
    "    return abs(1 - sum_thingy)\n",
    "\n",
    "V_solved = fsolve(flash_calculation, 0.5)[0]\n",
    "print(f'V: {V_solved:.4f}\\n')\n",
    "\n",
    "def flash_calculation(V):\n",
    "    print('----- vapor mole fractions -----')\n",
    "    for component in components:\n",
    "        A, B, z_iF = df.loc[component]['A'], df.loc[component]['B'], df.loc[component]['x']\n",
    "        pvap = (10**(B - A/T))\n",
    "        ki = pvap / Ptotal\n",
    "        yi = (z_iF * ki)/(1 + V*(ki - 1))\n",
    "        print(f'{component}: {yi:.4f}')\n",
    "\n",
    "    print('\\n----- liquid mole fractions -----')\n",
    "    for component in components:\n",
    "        A, B, z_iF = df.loc[component]['A'], df.loc[component]['B'], df.loc[component]['x']\n",
    "        pvap = (10**(B - A/T))\n",
    "        ki = pvap / Ptotal\n",
    "        yi = (z_iF * ki)/(1 + V*(ki - 1))\n",
    "        xi = yi / ki\n",
    "        print(f'{component}: {xi:.4f}')\n",
    "\n",
    "flash_calculation(V_solved)"
   ]
  },
  {
   "cell_type": "markdown",
   "metadata": {},
   "source": [
    "# (d)\n",
    "\n",
    "for our adiabatic process we will need our balance equations on top of the raoults law. let's assume the process is a continuous flow adiabatic expansion (flashbacks to cheg231 joule thompson stuff)\n",
    "\n",
    "mass balance\n",
    "$$\n",
    "\\frac{dm}{dt} = \\dot{m}_{\\text{in}} - \\dot{m}_{\\text{out}} = 0 \\tag{since steady state}\n",
    "$$\n",
    "\n",
    "energy balance (applying knowledge from mass bal) (ignoring KE, PE)\n",
    "$$\n",
    "\\frac{d}{dt} \\left[ U \\right] =0= \\dot{Q} + \\dot{W}_{s} + \\dot{W}_{pv} + \\dot{m} \\left( \\hat{H}_{in} - \\hat{H}_{out}\\right) = 0\n",
    "$$\n",
    "\n",
    "$$\n",
    "0 = \\hat{H}_{in} - \\hat{H}_{out} \\tag{isenthalpic!}\n",
    "$$\n",
    "\n",
    "and we still can use our raults law for each component\n",
    "$$\n",
    "x_i P^{\\text{vap}}_i = y_i P_{\\text{total}}\n",
    "$$\n",
    "\n",
    "if you were to solve this as before you'd just need more iteration with another equation and another unknown variable."
   ]
  },
  {
   "cell_type": "code",
   "execution_count": 160,
   "metadata": {},
   "outputs": [],
   "source": [
    "# this is filler text!"
   ]
  },
  {
   "cell_type": "code",
   "execution_count": 173,
   "metadata": {},
   "outputs": [
    {
     "data": {
      "text/plain": [
       "array([4.23180003e-01, 2.41355226e-01, 4.44208232e-02, 2.58707914e-03,\n",
       "       4.66145117e-05])"
      ]
     },
     "execution_count": 173,
     "metadata": {},
     "output_type": "execute_result"
    }
   ],
   "source": [
    "lims = np.arange(0.5,6.5,1)\n",
    "zs = (lims-1)/0.896\n",
    "zcdfs =  (norm.cdf(zs))\n",
    "np.diff(zcdfs)"
   ]
  },
  {
   "cell_type": "code",
   "execution_count": null,
   "metadata": {},
   "outputs": [],
   "source": [
    "from scipy.stats import binom, norm\n",
    "\n",
    "x = np.linspace(norm.ppf(0.01),\n",
    "                norm.ppf(0.99), 100)"
   ]
  },
  {
   "cell_type": "code",
   "execution_count": 177,
   "metadata": {},
   "outputs": [
    {
     "name": "stderr",
     "output_type": "stream",
     "text": [
      "/var/folders/f9/38nkw6517lgf362dv55hy0xc0000gn/T/ipykernel_51567/71171712.py:4: RuntimeWarning: invalid value encountered in scalar divide\n",
      "  return factorial(top) / (factorial(bottom) * factorial(top - bottom))\n"
     ]
    },
    {
     "data": {
      "text/plain": [
       "nan"
      ]
     },
     "execution_count": 177,
     "metadata": {},
     "output_type": "execute_result"
    }
   ],
   "source": [
    "from scipy.special import factorial\n",
    "\n",
    "def choose(top, bottom):\n",
    "    return factorial(top) / (factorial(bottom) * factorial(top - bottom))\n",
    "\n",
    "choose(1000.0,70.0)"
   ]
  },
  {
   "cell_type": "code",
   "execution_count": null,
   "metadata": {},
   "outputs": [],
   "source": []
  }
 ],
 "metadata": {
  "kernelspec": {
   "display_name": "base",
   "language": "python",
   "name": "python3"
  },
  "language_info": {
   "codemirror_mode": {
    "name": "ipython",
    "version": 3
   },
   "file_extension": ".py",
   "mimetype": "text/x-python",
   "name": "python",
   "nbconvert_exporter": "python",
   "pygments_lexer": "ipython3",
   "version": "3.11.5"
  }
 },
 "nbformat": 4,
 "nbformat_minor": 2
}
