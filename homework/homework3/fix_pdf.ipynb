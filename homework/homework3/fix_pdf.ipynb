{
 "cells": [
  {
   "cell_type": "markdown",
   "metadata": {},
   "source": [
    "pdf cropped for 1page jupyter/quarto notebooks"
   ]
  },
  {
   "cell_type": "code",
   "execution_count": null,
   "metadata": {},
   "outputs": [
    {
     "name": "stdout",
     "output_type": "stream",
     "text": [
      "Cropped PDF saved to /Users/kylewodehouse/Documents/CHEG325/homework/homework3/cropped/cheg325 SIS 10.1-1.pdf\n"
     ]
    },
    {
     "ename": "",
     "evalue": "",
     "output_type": "error",
     "traceback": [
      "\u001b[1;31mThe Kernel crashed while executing code in the current cell or a previous cell. \n",
      "\u001b[1;31mPlease review the code in the cell(s) to identify a possible cause of the failure. \n",
      "\u001b[1;31mClick <a href='https://aka.ms/vscodeJupyterKernelCrash'>here</a> for more info. \n",
      "\u001b[1;31mView Jupyter <a href='command:jupyter.viewOutput'>log</a> for further details."
     ]
    }
   ],
   "source": [
    "import fitz  # PyMuPDF\n",
    "from tkinter.filedialog import askopenfilenames\n",
    "import os\n",
    "\n",
    "pdf_paths = askopenfilenames(initialdir=os.getcwd())\n",
    "\n",
    "for pdf_path in pdf_paths:\n",
    "    folder = os.path.join(os.path.dirname(pdf_path), \"cropped\")\n",
    "    if not os.path.exists(folder):\n",
    "        os.makedirs(folder)\n",
    "\n",
    "    output_path = \"/\".join(pdf_path.split('/')[:-1]) + \"/cropped/\" + pdf_path.split('/')[-1]\n",
    "    doc = fitz.open(pdf_path)\n",
    "    page = doc[0]  \n",
    "\n",
    "    # Get the original page dimensions\n",
    "    orig_rect = page.rect\n",
    "\n",
    "    blocks = page.get_text(\"blocks\")\n",
    "    # blocks is a list of (x0, y0, x1, y1, text, block_no, ...)\n",
    "    if not blocks:\n",
    "        doc.save(output_path)\n",
    "        doc.close()\n",
    "        exit()\n",
    "\n",
    "    y1 = max(b[3] for b in blocks)\n",
    "\n",
    "    new_rect = fitz.Rect(orig_rect.x0, orig_rect.y0, orig_rect.x1, y1 + 50)\n",
    "    page.set_cropbox(new_rect)\n",
    "\n",
    "    doc.save(output_path)\n",
    "    doc.close()\n",
    "\n",
    "    os.remove(pdf_path)\n",
    "\n",
    "    print(f\"Cropped PDF saved to {output_path}\")"
   ]
  },
  {
   "cell_type": "code",
   "execution_count": null,
   "metadata": {},
   "outputs": [],
   "source": []
  }
 ],
 "metadata": {
  "kernelspec": {
   "display_name": "base",
   "language": "python",
   "name": "python3"
  },
  "language_info": {
   "codemirror_mode": {
    "name": "ipython",
    "version": 3
   },
   "file_extension": ".py",
   "mimetype": "text/x-python",
   "name": "python",
   "nbconvert_exporter": "python",
   "pygments_lexer": "ipython3",
   "version": "3.11.5"
  }
 },
 "nbformat": 4,
 "nbformat_minor": 2
}
